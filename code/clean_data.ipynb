{
 "cells": [
  {
   "cell_type": "markdown",
   "id": "b955d997-83f2-4433-b83e-9cb1c8bcec21",
   "metadata": {},
   "source": [
    "# Cleaning Data"
   ]
  },
  {
   "cell_type": "markdown",
   "id": "2021d36b-c5b6-4d6d-b5f0-cc5d23d830e2",
   "metadata": {},
   "source": [
    "## Problem Statement"
   ]
  },
  {
   "cell_type": "markdown",
   "id": "6e58b62e-8744-4ff3-bce1-c3e76a5cf193",
   "metadata": {},
   "source": [
    "We will look at each country's life expectancy and GNI per capita over time to determine under- and over-achievers in these categories.  Then we will use the data to attempt to determine the proper regional affliation for countries whose regional affliation varies by world leaders, UN, World Bank, etc.  Perhaps our data can help answer this question for some countries."
   ]
  },
  {
   "cell_type": "markdown",
   "id": "cbb06adc-4f8f-4c88-b6f7-4929ba5c71b3",
   "metadata": {},
   "source": [
    "### Disclaimer\n",
    "\n",
    "I will be using the term \"country\" to refer to the entities in this report with the understanding that not everyone agrees on this classification.  No official recognition or non-recognition is implied by an entity's inclusion or exclusion in this report.  The author lacks the necessary knowledge and training to make any informed statements in this matter."
   ]
  },
  {
   "cell_type": "code",
   "execution_count": 2,
   "id": "5f89c14c-fdc9-4934-a885-012fb5dfb9e5",
   "metadata": {},
   "outputs": [],
   "source": [
    "import pandas as pd\n",
    "import numpy as np\n",
    "import matplotlib.pyplot as plt\n",
    "from matplotlib.ticker import MultipleLocator\n",
    "import math\n",
    "import seaborn as sns"
   ]
  },
  {
   "cell_type": "markdown",
   "id": "7a24122b-b096-448d-82b9-36459f63c4d9",
   "metadata": {},
   "source": [
    "## Set up"
   ]
  },
  {
   "cell_type": "markdown",
   "id": "f16bc15c-9df5-4a00-bb03-5652f44bb90c",
   "metadata": {},
   "source": [
    "Much of the data appears in strings instead of numbers.  These are written as `43k` for `43_000` and `3.2M` for `3_200_000` and even `1.3B` for `1_300_000_000`.  Here's a  useful function to translate these strings to numbers for future calculations."
   ]
  },
  {
   "cell_type": "code",
   "execution_count": 84,
   "id": "3b03744b-7b98-47b2-bd0a-e4a9ebeb2bfa",
   "metadata": {},
   "outputs": [],
   "source": [
    "def str_to_num(in_str):\n",
    "    '''\n",
    "    Converts strings to numbers in scientific notation: a * 10**n\n",
    "    ---\n",
    "    in_str: incoming string of the from '10k' (10_000) or 4.3B (4_300_000_000)\n",
    "    '''\n",
    "    if type(in_str) == str:\n",
    "        mag = in_str[-1]\n",
    "        if in_str == 'nan':\n",
    "            a = 0\n",
    "            n = 0\n",
    "        elif mag in '0123456789':\n",
    "            a = float(in_str)\n",
    "            n = 0\n",
    "        elif mag == 'k':\n",
    "            a = float(in_str[:-1])\n",
    "            n = 3\n",
    "        elif mag == 'M':\n",
    "            a = float(in_str[:-1])\n",
    "            n = 6\n",
    "        elif mag == 'B':\n",
    "            a = float(in_str[:-1])\n",
    "            n = 9\n",
    "    \n",
    "        return a * (10**n)\n",
    "    else:\n",
    "        return in_str"
   ]
  },
  {
   "cell_type": "code",
   "execution_count": 85,
   "id": "af0b366d-da99-426d-b292-6ca4a896e5d8",
   "metadata": {},
   "outputs": [
    {
     "name": "stdout",
     "output_type": "stream",
     "text": [
      "Help on function str_to_num in module __main__:\n",
      "\n",
      "str_to_num(in_str)\n",
      "    Converts strings to numbers in scientific notation: a * 10**n\n",
      "    ---\n",
      "    in_str: incoming string of the from '10k' (10_000) or 4.3B (4_300_000_000)\n",
      "\n"
     ]
    }
   ],
   "source": [
    "help(str_to_num)"
   ]
  },
  {
   "cell_type": "markdown",
   "id": "2e2151ee-d3ed-4b0d-8247-82f7e9a211c5",
   "metadata": {
    "jp-MarkdownHeadingCollapsed": true
   },
   "source": [
    "## Population"
   ]
  },
  {
   "cell_type": "markdown",
   "id": "950f3398-eb47-4401-9a5c-fdfe1be0993a",
   "metadata": {},
   "source": [
    "First I'm going to look at the population data.  Although I did clean this data and looked at it, it will not play a role in my final analysis."
   ]
  },
  {
   "cell_type": "code",
   "execution_count": 5,
   "id": "c7faa39c-76ff-4c20-a967-c27f60a5cb01",
   "metadata": {},
   "outputs": [
    {
     "data": {
      "text/html": [
       "<div>\n",
       "<style scoped>\n",
       "    .dataframe tbody tr th:only-of-type {\n",
       "        vertical-align: middle;\n",
       "    }\n",
       "\n",
       "    .dataframe tbody tr th {\n",
       "        vertical-align: top;\n",
       "    }\n",
       "\n",
       "    .dataframe thead th {\n",
       "        text-align: right;\n",
       "    }\n",
       "</style>\n",
       "<table border=\"1\" class=\"dataframe\">\n",
       "  <thead>\n",
       "    <tr style=\"text-align: right;\">\n",
       "      <th></th>\n",
       "      <th>country</th>\n",
       "      <th>1800</th>\n",
       "      <th>1801</th>\n",
       "      <th>1802</th>\n",
       "      <th>1803</th>\n",
       "      <th>1804</th>\n",
       "      <th>1805</th>\n",
       "      <th>1806</th>\n",
       "      <th>1807</th>\n",
       "      <th>1808</th>\n",
       "      <th>...</th>\n",
       "      <th>2091</th>\n",
       "      <th>2092</th>\n",
       "      <th>2093</th>\n",
       "      <th>2094</th>\n",
       "      <th>2095</th>\n",
       "      <th>2096</th>\n",
       "      <th>2097</th>\n",
       "      <th>2098</th>\n",
       "      <th>2099</th>\n",
       "      <th>2100</th>\n",
       "    </tr>\n",
       "  </thead>\n",
       "  <tbody>\n",
       "    <tr>\n",
       "      <th>0</th>\n",
       "      <td>Afghanistan</td>\n",
       "      <td>3.28M</td>\n",
       "      <td>3.28M</td>\n",
       "      <td>3.28M</td>\n",
       "      <td>3.28M</td>\n",
       "      <td>3.28M</td>\n",
       "      <td>3.28M</td>\n",
       "      <td>3.28M</td>\n",
       "      <td>3.28M</td>\n",
       "      <td>3.28M</td>\n",
       "      <td>...</td>\n",
       "      <td>108M</td>\n",
       "      <td>108M</td>\n",
       "      <td>109M</td>\n",
       "      <td>109M</td>\n",
       "      <td>109M</td>\n",
       "      <td>110M</td>\n",
       "      <td>110M</td>\n",
       "      <td>110M</td>\n",
       "      <td>111M</td>\n",
       "      <td>111M</td>\n",
       "    </tr>\n",
       "    <tr>\n",
       "      <th>1</th>\n",
       "      <td>Angola</td>\n",
       "      <td>1.57M</td>\n",
       "      <td>1.57M</td>\n",
       "      <td>1.57M</td>\n",
       "      <td>1.57M</td>\n",
       "      <td>1.57M</td>\n",
       "      <td>1.57M</td>\n",
       "      <td>1.57M</td>\n",
       "      <td>1.57M</td>\n",
       "      <td>1.57M</td>\n",
       "      <td>...</td>\n",
       "      <td>125M</td>\n",
       "      <td>126M</td>\n",
       "      <td>127M</td>\n",
       "      <td>128M</td>\n",
       "      <td>129M</td>\n",
       "      <td>130M</td>\n",
       "      <td>131M</td>\n",
       "      <td>131M</td>\n",
       "      <td>132M</td>\n",
       "      <td>133M</td>\n",
       "    </tr>\n",
       "    <tr>\n",
       "      <th>2</th>\n",
       "      <td>Albania</td>\n",
       "      <td>400k</td>\n",
       "      <td>402k</td>\n",
       "      <td>404k</td>\n",
       "      <td>405k</td>\n",
       "      <td>407k</td>\n",
       "      <td>409k</td>\n",
       "      <td>411k</td>\n",
       "      <td>413k</td>\n",
       "      <td>414k</td>\n",
       "      <td>...</td>\n",
       "      <td>1.35M</td>\n",
       "      <td>1.32M</td>\n",
       "      <td>1.29M</td>\n",
       "      <td>1.26M</td>\n",
       "      <td>1.23M</td>\n",
       "      <td>1.21M</td>\n",
       "      <td>1.18M</td>\n",
       "      <td>1.15M</td>\n",
       "      <td>1.12M</td>\n",
       "      <td>1.1M</td>\n",
       "    </tr>\n",
       "    <tr>\n",
       "      <th>3</th>\n",
       "      <td>Andorra</td>\n",
       "      <td>2650</td>\n",
       "      <td>2650</td>\n",
       "      <td>2650</td>\n",
       "      <td>2650</td>\n",
       "      <td>2650</td>\n",
       "      <td>2650</td>\n",
       "      <td>2650</td>\n",
       "      <td>2650</td>\n",
       "      <td>2650</td>\n",
       "      <td>...</td>\n",
       "      <td>62.5k</td>\n",
       "      <td>62.2k</td>\n",
       "      <td>61.9k</td>\n",
       "      <td>61.7k</td>\n",
       "      <td>61.4k</td>\n",
       "      <td>61.2k</td>\n",
       "      <td>60.9k</td>\n",
       "      <td>60.7k</td>\n",
       "      <td>60.5k</td>\n",
       "      <td>60.2k</td>\n",
       "    </tr>\n",
       "    <tr>\n",
       "      <th>4</th>\n",
       "      <td>United Arab Emirates</td>\n",
       "      <td>40.2k</td>\n",
       "      <td>40.2k</td>\n",
       "      <td>40.2k</td>\n",
       "      <td>40.2k</td>\n",
       "      <td>40.2k</td>\n",
       "      <td>40.2k</td>\n",
       "      <td>40.2k</td>\n",
       "      <td>40.2k</td>\n",
       "      <td>40.2k</td>\n",
       "      <td>...</td>\n",
       "      <td>13.5M</td>\n",
       "      <td>13.5M</td>\n",
       "      <td>13.6M</td>\n",
       "      <td>13.7M</td>\n",
       "      <td>13.8M</td>\n",
       "      <td>13.8M</td>\n",
       "      <td>13.9M</td>\n",
       "      <td>14M</td>\n",
       "      <td>14M</td>\n",
       "      <td>14.1M</td>\n",
       "    </tr>\n",
       "  </tbody>\n",
       "</table>\n",
       "<p>5 rows × 302 columns</p>\n",
       "</div>"
      ],
      "text/plain": [
       "                country   1800   1801   1802   1803   1804   1805   1806  \\\n",
       "0           Afghanistan  3.28M  3.28M  3.28M  3.28M  3.28M  3.28M  3.28M   \n",
       "1                Angola  1.57M  1.57M  1.57M  1.57M  1.57M  1.57M  1.57M   \n",
       "2               Albania   400k   402k   404k   405k   407k   409k   411k   \n",
       "3               Andorra   2650   2650   2650   2650   2650   2650   2650   \n",
       "4  United Arab Emirates  40.2k  40.2k  40.2k  40.2k  40.2k  40.2k  40.2k   \n",
       "\n",
       "    1807   1808  ...   2091   2092   2093   2094   2095   2096   2097   2098  \\\n",
       "0  3.28M  3.28M  ...   108M   108M   109M   109M   109M   110M   110M   110M   \n",
       "1  1.57M  1.57M  ...   125M   126M   127M   128M   129M   130M   131M   131M   \n",
       "2   413k   414k  ...  1.35M  1.32M  1.29M  1.26M  1.23M  1.21M  1.18M  1.15M   \n",
       "3   2650   2650  ...  62.5k  62.2k  61.9k  61.7k  61.4k  61.2k  60.9k  60.7k   \n",
       "4  40.2k  40.2k  ...  13.5M  13.5M  13.6M  13.7M  13.8M  13.8M  13.9M    14M   \n",
       "\n",
       "    2099   2100  \n",
       "0   111M   111M  \n",
       "1   132M   133M  \n",
       "2  1.12M   1.1M  \n",
       "3  60.5k  60.2k  \n",
       "4    14M  14.1M  \n",
       "\n",
       "[5 rows x 302 columns]"
      ]
     },
     "execution_count": 5,
     "metadata": {},
     "output_type": "execute_result"
    }
   ],
   "source": [
    "pop = pd.read_csv('../data/population.csv')\n",
    "\n",
    "pop.head()"
   ]
  },
  {
   "cell_type": "markdown",
   "id": "39be7a6f-69fe-4e30-8403-bc397edbf25a",
   "metadata": {},
   "source": [
    "Let's see what's going on with the data."
   ]
  },
  {
   "cell_type": "code",
   "execution_count": 6,
   "id": "1b61c902-566b-4b10-821c-6e379e7ffd74",
   "metadata": {},
   "outputs": [
    {
     "data": {
      "text/plain": [
       "country    object\n",
       "1800       object\n",
       "1801       object\n",
       "1802       object\n",
       "1803       object\n",
       "            ...  \n",
       "2096       object\n",
       "2097       object\n",
       "2098       object\n",
       "2099       object\n",
       "2100       object\n",
       "Length: 302, dtype: object"
      ]
     },
     "execution_count": 6,
     "metadata": {},
     "output_type": "execute_result"
    }
   ],
   "source": [
    "pop.dtypes"
   ]
  },
  {
   "cell_type": "markdown",
   "id": "873de1d9-8ae9-4061-98a8-0c9c0c76a1cc",
   "metadata": {},
   "source": [
    "Very annoying.  The numbers are objects, this needs some cleaning."
   ]
  },
  {
   "cell_type": "code",
   "execution_count": 7,
   "id": "33d84cfa-1de5-4bbb-8eff-7521a6c12b08",
   "metadata": {},
   "outputs": [
    {
     "data": {
      "text/plain": [
       "country    0\n",
       "1800       0\n",
       "1801       0\n",
       "1802       0\n",
       "1803       0\n",
       "          ..\n",
       "2096       1\n",
       "2097       1\n",
       "2098       1\n",
       "2099       1\n",
       "2100       1\n",
       "Length: 302, dtype: int64"
      ]
     },
     "execution_count": 7,
     "metadata": {},
     "output_type": "execute_result"
    }
   ],
   "source": [
    "pop.isnull().sum()"
   ]
  },
  {
   "cell_type": "code",
   "execution_count": 8,
   "id": "59f67321-8dc6-4b04-bd5f-2ff45f7da214",
   "metadata": {},
   "outputs": [
    {
     "name": "stdout",
     "output_type": "stream",
     "text": [
      "<class 'pandas.core.frame.DataFrame'>\n",
      "RangeIndex: 197 entries, 0 to 196\n",
      "Columns: 302 entries, country to 2100\n",
      "dtypes: object(302)\n",
      "memory usage: 464.9+ KB\n"
     ]
    }
   ],
   "source": [
    "pop.info()"
   ]
  },
  {
   "cell_type": "markdown",
   "id": "d338a58a-ed71-4ae7-9be4-6bd1fdeabcc9",
   "metadata": {},
   "source": [
    "Population contains a list of 198 countries, each with populations from 1800 to 2100.  Clearly at least the last 75 years are predictions and not data.  I'm going to treat it all the same.  "
   ]
  },
  {
   "cell_type": "code",
   "execution_count": 9,
   "id": "04604219-cd79-46c6-b062-30c7d1a55cfe",
   "metadata": {},
   "outputs": [
    {
     "data": {
      "text/plain": [
       "100"
      ]
     },
     "execution_count": 9,
     "metadata": {},
     "output_type": "execute_result"
    }
   ],
   "source": [
    "# number of missing data entries\n",
    "pop.isnull().sum().sum()"
   ]
  },
  {
   "cell_type": "markdown",
   "id": "31621971-2984-42a4-8c7e-2aa690e3d1d0",
   "metadata": {},
   "source": [
    "There are 100 missing entries somewhere."
   ]
  },
  {
   "cell_type": "markdown",
   "id": "a1db1a05-ac1a-4152-bc26-7c98a1ae43d1",
   "metadata": {},
   "source": [
    "### World Population"
   ]
  },
  {
   "cell_type": "code",
   "execution_count": 10,
   "id": "771ee1aa-d98b-4f74-b4e6-f50d76348c67",
   "metadata": {},
   "outputs": [
    {
     "data": {
      "text/plain": [
       "1571021125.0"
      ]
     },
     "execution_count": 10,
     "metadata": {},
     "output_type": "execute_result"
    }
   ],
   "source": [
    "pop['1895'].apply(str_to_num).sum()"
   ]
  },
  {
   "cell_type": "code",
   "execution_count": 11,
   "id": "7b755573-8ec8-4700-af35-5631da4dd1bc",
   "metadata": {},
   "outputs": [],
   "source": [
    "popworld = []\n",
    "\n",
    "for year in range(1800,2101):\n",
    "    popworld.append(float(pop[str(year)].fillna('0').apply(str_to_num).sum()/10**9))\n",
    "\n",
    "pop_world = pd.DataFrame(popworld, index=[*range(1800,2101)], columns = ['World'])"
   ]
  },
  {
   "cell_type": "code",
   "execution_count": 12,
   "id": "d35caec5-6675-486b-85b7-c031c4eb8063",
   "metadata": {},
   "outputs": [
    {
     "data": {
      "text/html": [
       "<div>\n",
       "<style scoped>\n",
       "    .dataframe tbody tr th:only-of-type {\n",
       "        vertical-align: middle;\n",
       "    }\n",
       "\n",
       "    .dataframe tbody tr th {\n",
       "        vertical-align: top;\n",
       "    }\n",
       "\n",
       "    .dataframe thead th {\n",
       "        text-align: right;\n",
       "    }\n",
       "</style>\n",
       "<table border=\"1\" class=\"dataframe\">\n",
       "  <thead>\n",
       "    <tr style=\"text-align: right;\">\n",
       "      <th></th>\n",
       "      <th>World</th>\n",
       "    </tr>\n",
       "  </thead>\n",
       "  <tbody>\n",
       "    <tr>\n",
       "      <th>1800</th>\n",
       "      <td>0.984455</td>\n",
       "    </tr>\n",
       "    <tr>\n",
       "      <th>1801</th>\n",
       "      <td>0.987895</td>\n",
       "    </tr>\n",
       "    <tr>\n",
       "      <th>1802</th>\n",
       "      <td>0.991555</td>\n",
       "    </tr>\n",
       "    <tr>\n",
       "      <th>1803</th>\n",
       "      <td>0.994954</td>\n",
       "    </tr>\n",
       "    <tr>\n",
       "      <th>1804</th>\n",
       "      <td>0.997486</td>\n",
       "    </tr>\n",
       "  </tbody>\n",
       "</table>\n",
       "</div>"
      ],
      "text/plain": [
       "         World\n",
       "1800  0.984455\n",
       "1801  0.987895\n",
       "1802  0.991555\n",
       "1803  0.994954\n",
       "1804  0.997486"
      ]
     },
     "execution_count": 12,
     "metadata": {},
     "output_type": "execute_result"
    }
   ],
   "source": [
    "pop_world.head()"
   ]
  },
  {
   "cell_type": "code",
   "execution_count": 13,
   "id": "1d95e2ef-5237-48c6-b059-3db8491b4795",
   "metadata": {},
   "outputs": [
    {
     "data": {
      "text/html": [
       "<div>\n",
       "<style scoped>\n",
       "    .dataframe tbody tr th:only-of-type {\n",
       "        vertical-align: middle;\n",
       "    }\n",
       "\n",
       "    .dataframe tbody tr th {\n",
       "        vertical-align: top;\n",
       "    }\n",
       "\n",
       "    .dataframe thead th {\n",
       "        text-align: right;\n",
       "    }\n",
       "</style>\n",
       "<table border=\"1\" class=\"dataframe\">\n",
       "  <thead>\n",
       "    <tr style=\"text-align: right;\">\n",
       "      <th></th>\n",
       "      <th>World</th>\n",
       "    </tr>\n",
       "  </thead>\n",
       "  <tbody>\n",
       "    <tr>\n",
       "      <th>2096</th>\n",
       "      <td>10.381911</td>\n",
       "    </tr>\n",
       "    <tr>\n",
       "      <th>2097</th>\n",
       "      <td>10.370037</td>\n",
       "    </tr>\n",
       "    <tr>\n",
       "      <th>2098</th>\n",
       "      <td>10.355924</td>\n",
       "    </tr>\n",
       "    <tr>\n",
       "      <th>2099</th>\n",
       "      <td>10.353491</td>\n",
       "    </tr>\n",
       "    <tr>\n",
       "      <th>2100</th>\n",
       "      <td>10.340875</td>\n",
       "    </tr>\n",
       "  </tbody>\n",
       "</table>\n",
       "</div>"
      ],
      "text/plain": [
       "          World\n",
       "2096  10.381911\n",
       "2097  10.370037\n",
       "2098  10.355924\n",
       "2099  10.353491\n",
       "2100  10.340875"
      ]
     },
     "execution_count": 13,
     "metadata": {},
     "output_type": "execute_result"
    }
   ],
   "source": [
    "pop_world.tail()"
   ]
  },
  {
   "cell_type": "code",
   "execution_count": 14,
   "id": "35aa35dc-8053-45dc-a32b-f22e1f2fa5e2",
   "metadata": {},
   "outputs": [
    {
     "data": {
      "image/png": "[encoded data removed]",
      "text/plain": [
       "<Figure size 640x480 with 1 Axes>"
      ]
     },
     "metadata": {},
     "output_type": "display_data"
    }
   ],
   "source": [
    "fig, ax = plt.subplots()\n",
    "\n",
    "plt.plot(pop_world['World'])\n",
    "\n",
    "ax.set_title('World Population (in billions');\n",
    "\n",
    "fig.savefig('../images/world_population.png')\n",
    "\n",
    "plt.show()\n",
    "plt.close(fig)"
   ]
  },
  {
   "cell_type": "markdown",
   "id": "de8bcebb-de05-4a23-b66b-213651ffff60",
   "metadata": {},
   "source": [
    "Very cool, I'm please to see the world population look as expected"
   ]
  },
  {
   "cell_type": "markdown",
   "id": "54ac59e2-48c9-42f5-9fe9-6a055de6903e",
   "metadata": {},
   "source": [
    "### Population by Country Over Time"
   ]
  },
  {
   "cell_type": "markdown",
   "id": "2eac1ae8-26ed-4e0e-a71e-8f9876e49a88",
   "metadata": {},
   "source": [
    "I know how to plot columns of data with the year as the index, so I'm going to transpose this data into that form."
   ]
  },
  {
   "cell_type": "code",
   "execution_count": 15,
   "id": "42b3ed0d-478d-4651-b835-5506349e6ced",
   "metadata": {},
   "outputs": [
    {
     "data": {
      "text/html": [
       "<div>\n",
       "<style scoped>\n",
       "    .dataframe tbody tr th:only-of-type {\n",
       "        vertical-align: middle;\n",
       "    }\n",
       "\n",
       "    .dataframe tbody tr th {\n",
       "        vertical-align: top;\n",
       "    }\n",
       "\n",
       "    .dataframe thead th {\n",
       "        text-align: right;\n",
       "    }\n",
       "</style>\n",
       "<table border=\"1\" class=\"dataframe\">\n",
       "  <thead>\n",
       "    <tr style=\"text-align: right;\">\n",
       "      <th>country</th>\n",
       "      <th>Afghanistan</th>\n",
       "      <th>Angola</th>\n",
       "      <th>Albania</th>\n",
       "      <th>Andorra</th>\n",
       "      <th>United Arab Emirates</th>\n",
       "      <th>Argentina</th>\n",
       "      <th>Armenia</th>\n",
       "      <th>Antigua and Barbuda</th>\n",
       "      <th>Australia</th>\n",
       "      <th>Austria</th>\n",
       "      <th>...</th>\n",
       "      <th>Uzbekistan</th>\n",
       "      <th>St. Vincent and the Grenadines</th>\n",
       "      <th>Venezuela</th>\n",
       "      <th>Vietnam</th>\n",
       "      <th>Vanuatu</th>\n",
       "      <th>Samoa</th>\n",
       "      <th>Yemen</th>\n",
       "      <th>South Africa</th>\n",
       "      <th>Zambia</th>\n",
       "      <th>Zimbabwe</th>\n",
       "    </tr>\n",
       "  </thead>\n",
       "  <tbody>\n",
       "    <tr>\n",
       "      <th>1800</th>\n",
       "      <td>3.28M</td>\n",
       "      <td>1.57M</td>\n",
       "      <td>400k</td>\n",
       "      <td>2650</td>\n",
       "      <td>40.2k</td>\n",
       "      <td>534k</td>\n",
       "      <td>413k</td>\n",
       "      <td>37k</td>\n",
       "      <td>200k</td>\n",
       "      <td>3M</td>\n",
       "      <td>...</td>\n",
       "      <td>1.92M</td>\n",
       "      <td>25.8k</td>\n",
       "      <td>1M</td>\n",
       "      <td>4M</td>\n",
       "      <td>27.8k</td>\n",
       "      <td>47.3k</td>\n",
       "      <td>2.59M</td>\n",
       "      <td>1.45M</td>\n",
       "      <td>747k</td>\n",
       "      <td>1.09M</td>\n",
       "    </tr>\n",
       "    <tr>\n",
       "      <th>1801</th>\n",
       "      <td>3.28M</td>\n",
       "      <td>1.57M</td>\n",
       "      <td>402k</td>\n",
       "      <td>2650</td>\n",
       "      <td>40.2k</td>\n",
       "      <td>520k</td>\n",
       "      <td>413k</td>\n",
       "      <td>37k</td>\n",
       "      <td>205k</td>\n",
       "      <td>3.02M</td>\n",
       "      <td>...</td>\n",
       "      <td>1.92M</td>\n",
       "      <td>25.8k</td>\n",
       "      <td>978k</td>\n",
       "      <td>4.1M</td>\n",
       "      <td>27.8k</td>\n",
       "      <td>47.3k</td>\n",
       "      <td>2.59M</td>\n",
       "      <td>1.45M</td>\n",
       "      <td>758k</td>\n",
       "      <td>1.09M</td>\n",
       "    </tr>\n",
       "    <tr>\n",
       "      <th>1802</th>\n",
       "      <td>3.28M</td>\n",
       "      <td>1.57M</td>\n",
       "      <td>404k</td>\n",
       "      <td>2650</td>\n",
       "      <td>40.2k</td>\n",
       "      <td>506k</td>\n",
       "      <td>413k</td>\n",
       "      <td>37k</td>\n",
       "      <td>211k</td>\n",
       "      <td>3.04M</td>\n",
       "      <td>...</td>\n",
       "      <td>1.92M</td>\n",
       "      <td>25.8k</td>\n",
       "      <td>957k</td>\n",
       "      <td>4.2M</td>\n",
       "      <td>27.8k</td>\n",
       "      <td>47.3k</td>\n",
       "      <td>2.59M</td>\n",
       "      <td>1.46M</td>\n",
       "      <td>770k</td>\n",
       "      <td>1.09M</td>\n",
       "    </tr>\n",
       "    <tr>\n",
       "      <th>1803</th>\n",
       "      <td>3.28M</td>\n",
       "      <td>1.57M</td>\n",
       "      <td>405k</td>\n",
       "      <td>2650</td>\n",
       "      <td>40.2k</td>\n",
       "      <td>492k</td>\n",
       "      <td>413k</td>\n",
       "      <td>37k</td>\n",
       "      <td>216k</td>\n",
       "      <td>3.05M</td>\n",
       "      <td>...</td>\n",
       "      <td>1.92M</td>\n",
       "      <td>25.8k</td>\n",
       "      <td>936k</td>\n",
       "      <td>4.31M</td>\n",
       "      <td>27.8k</td>\n",
       "      <td>47.3k</td>\n",
       "      <td>2.59M</td>\n",
       "      <td>1.46M</td>\n",
       "      <td>782k</td>\n",
       "      <td>1.09M</td>\n",
       "    </tr>\n",
       "    <tr>\n",
       "      <th>1804</th>\n",
       "      <td>3.28M</td>\n",
       "      <td>1.57M</td>\n",
       "      <td>407k</td>\n",
       "      <td>2650</td>\n",
       "      <td>40.2k</td>\n",
       "      <td>479k</td>\n",
       "      <td>413k</td>\n",
       "      <td>37k</td>\n",
       "      <td>222k</td>\n",
       "      <td>3.07M</td>\n",
       "      <td>...</td>\n",
       "      <td>1.92M</td>\n",
       "      <td>25.8k</td>\n",
       "      <td>916k</td>\n",
       "      <td>4.41M</td>\n",
       "      <td>27.8k</td>\n",
       "      <td>47.3k</td>\n",
       "      <td>2.59M</td>\n",
       "      <td>1.47M</td>\n",
       "      <td>794k</td>\n",
       "      <td>1.09M</td>\n",
       "    </tr>\n",
       "  </tbody>\n",
       "</table>\n",
       "<p>5 rows × 197 columns</p>\n",
       "</div>"
      ],
      "text/plain": [
       "country Afghanistan Angola Albania Andorra United Arab Emirates Argentina  \\\n",
       "1800          3.28M  1.57M    400k    2650                40.2k      534k   \n",
       "1801          3.28M  1.57M    402k    2650                40.2k      520k   \n",
       "1802          3.28M  1.57M    404k    2650                40.2k      506k   \n",
       "1803          3.28M  1.57M    405k    2650                40.2k      492k   \n",
       "1804          3.28M  1.57M    407k    2650                40.2k      479k   \n",
       "\n",
       "country Armenia Antigua and Barbuda Australia Austria  ... Uzbekistan  \\\n",
       "1800       413k                 37k      200k      3M  ...      1.92M   \n",
       "1801       413k                 37k      205k   3.02M  ...      1.92M   \n",
       "1802       413k                 37k      211k   3.04M  ...      1.92M   \n",
       "1803       413k                 37k      216k   3.05M  ...      1.92M   \n",
       "1804       413k                 37k      222k   3.07M  ...      1.92M   \n",
       "\n",
       "country St. Vincent and the Grenadines Venezuela Vietnam Vanuatu  Samoa  \\\n",
       "1800                             25.8k        1M      4M   27.8k  47.3k   \n",
       "1801                             25.8k      978k    4.1M   27.8k  47.3k   \n",
       "1802                             25.8k      957k    4.2M   27.8k  47.3k   \n",
       "1803                             25.8k      936k   4.31M   27.8k  47.3k   \n",
       "1804                             25.8k      916k   4.41M   27.8k  47.3k   \n",
       "\n",
       "country  Yemen South Africa Zambia Zimbabwe  \n",
       "1800     2.59M        1.45M   747k    1.09M  \n",
       "1801     2.59M        1.45M   758k    1.09M  \n",
       "1802     2.59M        1.46M   770k    1.09M  \n",
       "1803     2.59M        1.46M   782k    1.09M  \n",
       "1804     2.59M        1.47M   794k    1.09M  \n",
       "\n",
       "[5 rows x 197 columns]"
      ]
     },
     "execution_count": 15,
     "metadata": {},
     "output_type": "execute_result"
    }
   ],
   "source": [
    "pop_country = pop.set_index('country').T\n",
    "\n",
    "pop_country.head()"
   ]
  },
  {
   "cell_type": "markdown",
   "id": "e9b68a7f-92d7-4200-8610-8b29013990e7",
   "metadata": {},
   "source": [
    "### Missing Data"
   ]
  },
  {
   "cell_type": "code",
   "execution_count": 16,
   "id": "aae08300-d1ea-4563-81c0-8b2429ebd71a",
   "metadata": {},
   "outputs": [
    {
     "data": {
      "text/plain": [
       "100"
      ]
     },
     "execution_count": 16,
     "metadata": {},
     "output_type": "execute_result"
    }
   ],
   "source": [
    "pop_country.isnull().sum().sum()"
   ]
  },
  {
   "cell_type": "markdown",
   "id": "a50e0ce8-2a06-4a3e-b0fc-c19dddb742d0",
   "metadata": {},
   "source": [
    "there are 100 missing entries, not too many (all considered)"
   ]
  },
  {
   "cell_type": "code",
   "execution_count": 17,
   "id": "a3de9834-5c0e-45b2-b0b8-28bf2206d8ad",
   "metadata": {
    "scrolled": true
   },
   "outputs": [
    {
     "name": "stdout",
     "output_type": "stream",
     "text": [
      "country\n",
      "Afghanistan                         0\n",
      "Angola                              0\n",
      "Albania                             0\n",
      "Andorra                             0\n",
      "United Arab Emirates                0\n",
      "Argentina                           0\n",
      "Armenia                             0\n",
      "Antigua and Barbuda                 0\n",
      "Australia                           0\n",
      "Austria                             0\n",
      "Azerbaijan                          0\n",
      "Burundi                             0\n",
      "Belgium                             0\n",
      "Benin                               0\n",
      "Burkina Faso                        0\n",
      "Bangladesh                          0\n",
      "Bulgaria                            0\n",
      "Bahrain                             0\n",
      "Bahamas                             0\n",
      "Bosnia and Herzegovina              0\n",
      "Belarus                             0\n",
      "Belize                              0\n",
      "Bolivia                             0\n",
      "Brazil                              0\n",
      "Barbados                            0\n",
      "Brunei                              0\n",
      "Bhutan                              0\n",
      "Botswana                            0\n",
      "Central African Republic            0\n",
      "Canada                              0\n",
      "Switzerland                         0\n",
      "Chile                               0\n",
      "China                               0\n",
      "Cote d'Ivoire                       0\n",
      "Cameroon                            0\n",
      "Congo, Dem. Rep.                    0\n",
      "Congo, Rep.                         0\n",
      "Colombia                            0\n",
      "Comoros                             0\n",
      "Cape Verde                          0\n",
      "Costa Rica                          0\n",
      "Cuba                                0\n",
      "Cyprus                              0\n",
      "Czech Republic                      0\n",
      "Germany                             0\n",
      "Djibouti                            0\n",
      "Dominica                            0\n",
      "Denmark                             0\n",
      "Dominican Republic                  0\n",
      "Algeria                             0\n",
      "Ecuador                             0\n",
      "Egypt                               0\n",
      "Eritrea                             0\n",
      "Spain                               0\n",
      "Estonia                             0\n",
      "Ethiopia                            0\n",
      "Finland                             0\n",
      "Fiji                                0\n",
      "France                              0\n",
      "Micronesia, Fed. Sts.               0\n",
      "Gabon                               0\n",
      "United Kingdom                      0\n",
      "Georgia                             0\n",
      "Ghana                               0\n",
      "Guinea                              0\n",
      "Gambia                              0\n",
      "Guinea-Bissau                       0\n",
      "Equatorial Guinea                   0\n",
      "Greece                              0\n",
      "Grenada                             0\n",
      "Guatemala                           0\n",
      "Guyana                              0\n",
      "Hong Kong, China                    0\n",
      "Honduras                            0\n",
      "Holy See                          100\n",
      "Croatia                             0\n",
      "Haiti                               0\n",
      "Hungary                             0\n",
      "Indonesia                           0\n",
      "India                               0\n",
      "Ireland                             0\n",
      "Iran                                0\n",
      "Iraq                                0\n",
      "Iceland                             0\n",
      "Israel                              0\n",
      "Italy                               0\n",
      "Jamaica                             0\n",
      "Jordan                              0\n",
      "Japan                               0\n",
      "Kazakhstan                          0\n",
      "Kenya                               0\n",
      "Kyrgyz Republic                     0\n",
      "Cambodia                            0\n",
      "Kiribati                            0\n",
      "St. Kitts and Nevis                 0\n",
      "South Korea                         0\n",
      "Kuwait                              0\n",
      "Lao                                 0\n",
      "Lebanon                             0\n",
      "Liberia                             0\n",
      "Libya                               0\n",
      "St. Lucia                           0\n",
      "Liechtenstein                       0\n",
      "Sri Lanka                           0\n",
      "Lesotho                             0\n",
      "Lithuania                           0\n",
      "Luxembourg                          0\n",
      "Latvia                              0\n",
      "Morocco                             0\n",
      "Monaco                              0\n",
      "Moldova                             0\n",
      "Madagascar                          0\n",
      "Maldives                            0\n",
      "Mexico                              0\n",
      "Marshall Islands                    0\n",
      "North Macedonia                     0\n",
      "Mali                                0\n",
      "Malta                               0\n",
      "Myanmar                             0\n",
      "Montenegro                          0\n",
      "Mongolia                            0\n",
      "Mozambique                          0\n",
      "Mauritania                          0\n",
      "Mauritius                           0\n",
      "Malawi                              0\n",
      "Malaysia                            0\n",
      "Namibia                             0\n",
      "Niger                               0\n",
      "Nigeria                             0\n",
      "Nicaragua                           0\n",
      "Netherlands                         0\n",
      "Norway                              0\n",
      "Nepal                               0\n",
      "Nauru                               0\n",
      "New Zealand                         0\n",
      "Oman                                0\n",
      "Pakistan                            0\n",
      "Panama                              0\n",
      "Peru                                0\n",
      "Philippines                         0\n",
      "Palau                               0\n",
      "Papua New Guinea                    0\n",
      "Poland                              0\n",
      "North Korea                         0\n",
      "Portugal                            0\n",
      "Paraguay                            0\n",
      "Palestine                           0\n",
      "Qatar                               0\n",
      "Romania                             0\n",
      "Russia                              0\n",
      "Rwanda                              0\n",
      "Saudi Arabia                        0\n",
      "Sudan                               0\n",
      "Senegal                             0\n",
      "Singapore                           0\n",
      "Solomon Islands                     0\n",
      "Sierra Leone                        0\n",
      "El Salvador                         0\n",
      "San Marino                          0\n",
      "Somalia                             0\n",
      "Serbia                              0\n",
      "South Sudan                         0\n",
      "Sao Tome and Principe               0\n",
      "Suriname                            0\n",
      "Slovak Republic                     0\n",
      "Slovenia                            0\n",
      "Sweden                              0\n",
      "Eswatini                            0\n",
      "Seychelles                          0\n",
      "Syria                               0\n",
      "Chad                                0\n",
      "Togo                                0\n",
      "Thailand                            0\n",
      "Tajikistan                          0\n",
      "Turkmenistan                        0\n",
      "Timor-Leste                         0\n",
      "Tonga                               0\n",
      "Trinidad and Tobago                 0\n",
      "Tunisia                             0\n",
      "Turkey                              0\n",
      "Tuvalu                              0\n",
      "Taiwan                              0\n",
      "Tanzania                            0\n",
      "Uganda                              0\n",
      "Ukraine                             0\n",
      "Uruguay                             0\n",
      "United States                       0\n",
      "Uzbekistan                          0\n",
      "St. Vincent and the Grenadines      0\n",
      "Venezuela                           0\n",
      "Vietnam                             0\n",
      "Vanuatu                             0\n",
      "Samoa                               0\n",
      "Yemen                               0\n",
      "South Africa                        0\n",
      "Zambia                              0\n",
      "Zimbabwe                            0\n",
      "dtype: int64\n"
     ]
    }
   ],
   "source": [
    "with pd.option_context('display.max_rows',None):\n",
    "    print(pop_country.isnull().sum())"
   ]
  },
  {
   "cell_type": "markdown",
   "id": "bd422048-88ac-4059-88d9-7ee99388b0b5",
   "metadata": {},
   "source": [
    "All 100 hundred of these entries are from the Holy See (or Vatican City).  I'm going to remove it from the set of countries to continue studying."
   ]
  },
  {
   "cell_type": "code",
   "execution_count": 18,
   "id": "f49d4502-ae3d-442e-ba43-5470ab8ea822",
   "metadata": {},
   "outputs": [],
   "source": [
    "countries_pop = pop_country.columns.tolist()"
   ]
  },
  {
   "cell_type": "code",
   "execution_count": 19,
   "id": "58036662-c9ac-4009-8bc2-706953a3c1f9",
   "metadata": {},
   "outputs": [],
   "source": [
    "countries_pop.remove('Holy See')"
   ]
  },
  {
   "cell_type": "code",
   "execution_count": 20,
   "id": "82184cea-bc27-46a4-b6fd-21b85565302c",
   "metadata": {},
   "outputs": [
    {
     "name": "stdout",
     "output_type": "stream",
     "text": [
      "['Afghanistan', 'Angola', 'Albania', 'Andorra', 'United Arab Emirates', 'Argentina', 'Armenia', 'Antigua and Barbuda', 'Australia', 'Austria', 'Azerbaijan', 'Burundi', 'Belgium', 'Benin', 'Burkina Faso', 'Bangladesh', 'Bulgaria', 'Bahrain', 'Bahamas', 'Bosnia and Herzegovina', 'Belarus', 'Belize', 'Bolivia', 'Brazil', 'Barbados', 'Brunei', 'Bhutan', 'Botswana', 'Central African Republic', 'Canada', 'Switzerland', 'Chile', 'China', \"Cote d'Ivoire\", 'Cameroon', 'Congo, Dem. Rep.', 'Congo, Rep.', 'Colombia', 'Comoros', 'Cape Verde', 'Costa Rica', 'Cuba', 'Cyprus', 'Czech Republic', 'Germany', 'Djibouti', 'Dominica', 'Denmark', 'Dominican Republic', 'Algeria', 'Ecuador', 'Egypt', 'Eritrea', 'Spain', 'Estonia', 'Ethiopia', 'Finland', 'Fiji', 'France', 'Micronesia, Fed. Sts.', 'Gabon', 'United Kingdom', 'Georgia', 'Ghana', 'Guinea', 'Gambia', 'Guinea-Bissau', 'Equatorial Guinea', 'Greece', 'Grenada', 'Guatemala', 'Guyana', 'Hong Kong, China', 'Honduras', 'Croatia', 'Haiti', 'Hungary', 'Indonesia', 'India', 'Ireland', 'Iran', 'Iraq', 'Iceland', 'Israel', 'Italy', 'Jamaica', 'Jordan', 'Japan', 'Kazakhstan', 'Kenya', 'Kyrgyz Republic', 'Cambodia', 'Kiribati', 'St. Kitts and Nevis', 'South Korea', 'Kuwait', 'Lao', 'Lebanon', 'Liberia', 'Libya', 'St. Lucia', 'Liechtenstein', 'Sri Lanka', 'Lesotho', 'Lithuania', 'Luxembourg', 'Latvia', 'Morocco', 'Monaco', 'Moldova', 'Madagascar', 'Maldives', 'Mexico', 'Marshall Islands', 'North Macedonia', 'Mali', 'Malta', 'Myanmar', 'Montenegro', 'Mongolia', 'Mozambique', 'Mauritania', 'Mauritius', 'Malawi', 'Malaysia', 'Namibia', 'Niger', 'Nigeria', 'Nicaragua', 'Netherlands', 'Norway', 'Nepal', 'Nauru', 'New Zealand', 'Oman', 'Pakistan', 'Panama', 'Peru', 'Philippines', 'Palau', 'Papua New Guinea', 'Poland', 'North Korea', 'Portugal', 'Paraguay', 'Palestine', 'Qatar', 'Romania', 'Russia', 'Rwanda', 'Saudi Arabia', 'Sudan', 'Senegal', 'Singapore', 'Solomon Islands', 'Sierra Leone', 'El Salvador', 'San Marino', 'Somalia', 'Serbia', 'South Sudan', 'Sao Tome and Principe', 'Suriname', 'Slovak Republic', 'Slovenia', 'Sweden', 'Eswatini', 'Seychelles', 'Syria', 'Chad', 'Togo', 'Thailand', 'Tajikistan', 'Turkmenistan', 'Timor-Leste', 'Tonga', 'Trinidad and Tobago', 'Tunisia', 'Turkey', 'Tuvalu', 'Taiwan', 'Tanzania', 'Uganda', 'Ukraine', 'Uruguay', 'United States', 'Uzbekistan', 'St. Vincent and the Grenadines', 'Venezuela', 'Vietnam', 'Vanuatu', 'Samoa', 'Yemen', 'South Africa', 'Zambia', 'Zimbabwe']\n"
     ]
    }
   ],
   "source": [
    "print(countries_pop)"
   ]
  },
  {
   "cell_type": "code",
   "execution_count": 21,
   "id": "9e3a6294-53be-4249-9304-c21c15bfe8d8",
   "metadata": {},
   "outputs": [
    {
     "data": {
      "text/plain": [
       "196"
      ]
     },
     "execution_count": 21,
     "metadata": {},
     "output_type": "execute_result"
    }
   ],
   "source": [
    "len(countries_pop)"
   ]
  },
  {
   "cell_type": "markdown",
   "id": "2ff4f115-8c9c-4c16-b1fc-0c32f4ef2cc1",
   "metadata": {},
   "source": [
    "We have 196 countries with complete population data"
   ]
  },
  {
   "cell_type": "markdown",
   "id": "e0b054f6-aff7-446e-8e5e-1467aaaab918",
   "metadata": {},
   "source": [
    "### Continuing with Country Population over Time"
   ]
  },
  {
   "cell_type": "code",
   "execution_count": 92,
   "id": "5761f3a3-89b0-4566-9eb9-53b69fa659c8",
   "metadata": {},
   "outputs": [],
   "source": [
    "pop_time = pop_country.map(str_to_num)"
   ]
  },
  {
   "cell_type": "code",
   "execution_count": 102,
   "id": "5de849e4-7bde-45a9-948c-d18aa253b9e4",
   "metadata": {},
   "outputs": [
    {
     "data": {
      "text/html": [
       "<div>\n",
       "<style scoped>\n",
       "    .dataframe tbody tr th:only-of-type {\n",
       "        vertical-align: middle;\n",
       "    }\n",
       "\n",
       "    .dataframe tbody tr th {\n",
       "        vertical-align: top;\n",
       "    }\n",
       "\n",
       "    .dataframe thead th {\n",
       "        text-align: right;\n",
       "    }\n",
       "</style>\n",
       "<table border=\"1\" class=\"dataframe\">\n",
       "  <thead>\n",
       "    <tr style=\"text-align: right;\">\n",
       "      <th>country</th>\n",
       "      <th>Afghanistan</th>\n",
       "      <th>Angola</th>\n",
       "      <th>Albania</th>\n",
       "      <th>Andorra</th>\n",
       "      <th>United Arab Emirates</th>\n",
       "      <th>Argentina</th>\n",
       "      <th>Armenia</th>\n",
       "      <th>Antigua and Barbuda</th>\n",
       "      <th>Australia</th>\n",
       "      <th>Austria</th>\n",
       "      <th>...</th>\n",
       "      <th>Uzbekistan</th>\n",
       "      <th>St. Vincent and the Grenadines</th>\n",
       "      <th>Venezuela</th>\n",
       "      <th>Vietnam</th>\n",
       "      <th>Vanuatu</th>\n",
       "      <th>Samoa</th>\n",
       "      <th>Yemen</th>\n",
       "      <th>South Africa</th>\n",
       "      <th>Zambia</th>\n",
       "      <th>Zimbabwe</th>\n",
       "    </tr>\n",
       "  </thead>\n",
       "  <tbody>\n",
       "    <tr>\n",
       "      <th>1800</th>\n",
       "      <td>3280000.0</td>\n",
       "      <td>1570000.0</td>\n",
       "      <td>400000.0</td>\n",
       "      <td>2650.0</td>\n",
       "      <td>40200.0</td>\n",
       "      <td>534000.0</td>\n",
       "      <td>413000.0</td>\n",
       "      <td>37000.0</td>\n",
       "      <td>200000.0</td>\n",
       "      <td>3000000.0</td>\n",
       "      <td>...</td>\n",
       "      <td>1920000.0</td>\n",
       "      <td>25800.0</td>\n",
       "      <td>1000000.0</td>\n",
       "      <td>4000000.0</td>\n",
       "      <td>27800.0</td>\n",
       "      <td>47300.0</td>\n",
       "      <td>2590000.0</td>\n",
       "      <td>1450000.0</td>\n",
       "      <td>747000.0</td>\n",
       "      <td>1090000.0</td>\n",
       "    </tr>\n",
       "    <tr>\n",
       "      <th>1801</th>\n",
       "      <td>3280000.0</td>\n",
       "      <td>1570000.0</td>\n",
       "      <td>402000.0</td>\n",
       "      <td>2650.0</td>\n",
       "      <td>40200.0</td>\n",
       "      <td>520000.0</td>\n",
       "      <td>413000.0</td>\n",
       "      <td>37000.0</td>\n",
       "      <td>205000.0</td>\n",
       "      <td>3020000.0</td>\n",
       "      <td>...</td>\n",
       "      <td>1920000.0</td>\n",
       "      <td>25800.0</td>\n",
       "      <td>978000.0</td>\n",
       "      <td>4100000.0</td>\n",
       "      <td>27800.0</td>\n",
       "      <td>47300.0</td>\n",
       "      <td>2590000.0</td>\n",
       "      <td>1450000.0</td>\n",
       "      <td>758000.0</td>\n",
       "      <td>1090000.0</td>\n",
       "    </tr>\n",
       "    <tr>\n",
       "      <th>1802</th>\n",
       "      <td>3280000.0</td>\n",
       "      <td>1570000.0</td>\n",
       "      <td>404000.0</td>\n",
       "      <td>2650.0</td>\n",
       "      <td>40200.0</td>\n",
       "      <td>506000.0</td>\n",
       "      <td>413000.0</td>\n",
       "      <td>37000.0</td>\n",
       "      <td>211000.0</td>\n",
       "      <td>3040000.0</td>\n",
       "      <td>...</td>\n",
       "      <td>1920000.0</td>\n",
       "      <td>25800.0</td>\n",
       "      <td>957000.0</td>\n",
       "      <td>4200000.0</td>\n",
       "      <td>27800.0</td>\n",
       "      <td>47300.0</td>\n",
       "      <td>2590000.0</td>\n",
       "      <td>1460000.0</td>\n",
       "      <td>770000.0</td>\n",
       "      <td>1090000.0</td>\n",
       "    </tr>\n",
       "    <tr>\n",
       "      <th>1803</th>\n",
       "      <td>3280000.0</td>\n",
       "      <td>1570000.0</td>\n",
       "      <td>405000.0</td>\n",
       "      <td>2650.0</td>\n",
       "      <td>40200.0</td>\n",
       "      <td>492000.0</td>\n",
       "      <td>413000.0</td>\n",
       "      <td>37000.0</td>\n",
       "      <td>216000.0</td>\n",
       "      <td>3050000.0</td>\n",
       "      <td>...</td>\n",
       "      <td>1920000.0</td>\n",
       "      <td>25800.0</td>\n",
       "      <td>936000.0</td>\n",
       "      <td>4310000.0</td>\n",
       "      <td>27800.0</td>\n",
       "      <td>47300.0</td>\n",
       "      <td>2590000.0</td>\n",
       "      <td>1460000.0</td>\n",
       "      <td>782000.0</td>\n",
       "      <td>1090000.0</td>\n",
       "    </tr>\n",
       "    <tr>\n",
       "      <th>1804</th>\n",
       "      <td>3280000.0</td>\n",
       "      <td>1570000.0</td>\n",
       "      <td>407000.0</td>\n",
       "      <td>2650.0</td>\n",
       "      <td>40200.0</td>\n",
       "      <td>479000.0</td>\n",
       "      <td>413000.0</td>\n",
       "      <td>37000.0</td>\n",
       "      <td>222000.0</td>\n",
       "      <td>3070000.0</td>\n",
       "      <td>...</td>\n",
       "      <td>1920000.0</td>\n",
       "      <td>25800.0</td>\n",
       "      <td>916000.0</td>\n",
       "      <td>4410000.0</td>\n",
       "      <td>27800.0</td>\n",
       "      <td>47300.0</td>\n",
       "      <td>2590000.0</td>\n",
       "      <td>1470000.0</td>\n",
       "      <td>794000.0</td>\n",
       "      <td>1090000.0</td>\n",
       "    </tr>\n",
       "  </tbody>\n",
       "</table>\n",
       "<p>5 rows × 197 columns</p>\n",
       "</div>"
      ],
      "text/plain": [
       "country  Afghanistan     Angola   Albania  Andorra  United Arab Emirates  \\\n",
       "1800       3280000.0  1570000.0  400000.0   2650.0               40200.0   \n",
       "1801       3280000.0  1570000.0  402000.0   2650.0               40200.0   \n",
       "1802       3280000.0  1570000.0  404000.0   2650.0               40200.0   \n",
       "1803       3280000.0  1570000.0  405000.0   2650.0               40200.0   \n",
       "1804       3280000.0  1570000.0  407000.0   2650.0               40200.0   \n",
       "\n",
       "country  Argentina   Armenia  Antigua and Barbuda  Australia    Austria  ...  \\\n",
       "1800      534000.0  413000.0              37000.0   200000.0  3000000.0  ...   \n",
       "1801      520000.0  413000.0              37000.0   205000.0  3020000.0  ...   \n",
       "1802      506000.0  413000.0              37000.0   211000.0  3040000.0  ...   \n",
       "1803      492000.0  413000.0              37000.0   216000.0  3050000.0  ...   \n",
       "1804      479000.0  413000.0              37000.0   222000.0  3070000.0  ...   \n",
       "\n",
       "country  Uzbekistan  St. Vincent and the Grenadines  Venezuela    Vietnam  \\\n",
       "1800      1920000.0                         25800.0  1000000.0  4000000.0   \n",
       "1801      1920000.0                         25800.0   978000.0  4100000.0   \n",
       "1802      1920000.0                         25800.0   957000.0  4200000.0   \n",
       "1803      1920000.0                         25800.0   936000.0  4310000.0   \n",
       "1804      1920000.0                         25800.0   916000.0  4410000.0   \n",
       "\n",
       "country  Vanuatu    Samoa      Yemen  South Africa    Zambia   Zimbabwe  \n",
       "1800     27800.0  47300.0  2590000.0     1450000.0  747000.0  1090000.0  \n",
       "1801     27800.0  47300.0  2590000.0     1450000.0  758000.0  1090000.0  \n",
       "1802     27800.0  47300.0  2590000.0     1460000.0  770000.0  1090000.0  \n",
       "1803     27800.0  47300.0  2590000.0     1460000.0  782000.0  1090000.0  \n",
       "1804     27800.0  47300.0  2590000.0     1470000.0  794000.0  1090000.0  \n",
       "\n",
       "[5 rows x 197 columns]"
      ]
     },
     "execution_count": 102,
     "metadata": {},
     "output_type": "execute_result"
    }
   ],
   "source": [
    "pop_time.head()"
   ]
  },
  {
   "cell_type": "code",
   "execution_count": 93,
   "id": "d9a4eacf-dc7f-46b4-9f73-45c68a44eee8",
   "metadata": {},
   "outputs": [
    {
     "data": {
      "text/plain": [
       "1800      5100000.0\n",
       "1801      5170000.0\n",
       "1802      5230000.0\n",
       "1803      5300000.0\n",
       "1804      5370000.0\n",
       "           ...     \n",
       "2096    119000000.0\n",
       "2097    118000000.0\n",
       "2098    117000000.0\n",
       "2099    117000000.0\n",
       "2100    116000000.0\n",
       "Name: Mexico, Length: 301, dtype: float64"
      ]
     },
     "execution_count": 93,
     "metadata": {},
     "output_type": "execute_result"
    }
   ],
   "source": [
    "pop_time['Mexico']"
   ]
  },
  {
   "cell_type": "code",
   "execution_count": 94,
   "id": "c3a61f2e-adbb-4513-abcc-221b15db21e5",
   "metadata": {},
   "outputs": [
    {
     "data": {
      "image/png": "[encoded data removed]",
      "text/plain": [
       "<Figure size 640x480 with 1 Axes>"
      ]
     },
     "metadata": {},
     "output_type": "display_data"
    }
   ],
   "source": [
    "fig,ax= plt.subplots()\n",
    "\n",
    "pop_time['United Kingdom'].plot(ylabel='population', title = 'Historic and Projected Population in Selected Countries', legend=True)\n",
    "pop_time['South Africa'].plot(legend=True)\n",
    "pop_time['Zimbabwe'].plot(legend=True)\n",
    "pop_time['Haiti'].plot(legend=True)\n",
    "pop_time['Canada'].plot(legend=True)\n",
    "pop_time['Mexico'].plot(legend=True);\n",
    "\n",
    "fig.savefig('../images/population.png')\n",
    "\n",
    "plt.show()\n",
    "plt.close(fig)"
   ]
  },
  {
   "cell_type": "markdown",
   "id": "d7b212fa-6954-40de-90e4-fc11740ab4b6",
   "metadata": {},
   "source": [
    "The overall process is working and we can plot a country's population over time."
   ]
  },
  {
   "cell_type": "code",
   "execution_count": 95,
   "id": "b3fb1178-6a8d-4bce-9bfc-e8f20213b91a",
   "metadata": {},
   "outputs": [],
   "source": [
    "# save cleaned data\n",
    "pop_time.to_csv(path_or_buf= '../data/pop_clean.csv')"
   ]
  },
  {
   "cell_type": "markdown",
   "id": "91d00a6d-5c3a-4d01-9517-54ea60741c0c",
   "metadata": {},
   "source": [
    "## Life Expectancy"
   ]
  },
  {
   "cell_type": "markdown",
   "id": "1e672810-92b5-4be9-b887-30a86bd47418",
   "metadata": {},
   "source": [
    "Next let's look at the life expectancy data."
   ]
  },
  {
   "cell_type": "code",
   "execution_count": 26,
   "id": "ea4f51fc-9037-4688-94e1-89efca6adf0c",
   "metadata": {},
   "outputs": [
    {
     "data": {
      "text/html": [
       "<div>\n",
       "<style scoped>\n",
       "    .dataframe tbody tr th:only-of-type {\n",
       "        vertical-align: middle;\n",
       "    }\n",
       "\n",
       "    .dataframe tbody tr th {\n",
       "        vertical-align: top;\n",
       "    }\n",
       "\n",
       "    .dataframe thead th {\n",
       "        text-align: right;\n",
       "    }\n",
       "</style>\n",
       "<table border=\"1\" class=\"dataframe\">\n",
       "  <thead>\n",
       "    <tr style=\"text-align: right;\">\n",
       "      <th>country</th>\n",
       "      <th>Afghanistan</th>\n",
       "      <th>Angola</th>\n",
       "      <th>Albania</th>\n",
       "      <th>Andorra</th>\n",
       "      <th>United Arab Emirates</th>\n",
       "      <th>Argentina</th>\n",
       "      <th>Armenia</th>\n",
       "      <th>Antigua and Barbuda</th>\n",
       "      <th>Australia</th>\n",
       "      <th>Austria</th>\n",
       "      <th>...</th>\n",
       "      <th>Uzbekistan</th>\n",
       "      <th>St. Vincent and the Grenadines</th>\n",
       "      <th>Venezuela</th>\n",
       "      <th>Vietnam</th>\n",
       "      <th>Vanuatu</th>\n",
       "      <th>Samoa</th>\n",
       "      <th>Yemen</th>\n",
       "      <th>South Africa</th>\n",
       "      <th>Zambia</th>\n",
       "      <th>Zimbabwe</th>\n",
       "    </tr>\n",
       "  </thead>\n",
       "  <tbody>\n",
       "    <tr>\n",
       "      <th>1800</th>\n",
       "      <td>28.2</td>\n",
       "      <td>27.0</td>\n",
       "      <td>35.4</td>\n",
       "      <td>NaN</td>\n",
       "      <td>30.7</td>\n",
       "      <td>33.2</td>\n",
       "      <td>34.0</td>\n",
       "      <td>33.5</td>\n",
       "      <td>34.0</td>\n",
       "      <td>34.4</td>\n",
       "      <td>...</td>\n",
       "      <td>26.9</td>\n",
       "      <td>26.0</td>\n",
       "      <td>32.2</td>\n",
       "      <td>32.0</td>\n",
       "      <td>24.3</td>\n",
       "      <td>25.4</td>\n",
       "      <td>23.4</td>\n",
       "      <td>33.5</td>\n",
       "      <td>32.6</td>\n",
       "      <td>33.7</td>\n",
       "    </tr>\n",
       "    <tr>\n",
       "      <th>1801</th>\n",
       "      <td>28.2</td>\n",
       "      <td>27.0</td>\n",
       "      <td>35.4</td>\n",
       "      <td>NaN</td>\n",
       "      <td>30.7</td>\n",
       "      <td>33.2</td>\n",
       "      <td>34.0</td>\n",
       "      <td>33.5</td>\n",
       "      <td>34.0</td>\n",
       "      <td>34.4</td>\n",
       "      <td>...</td>\n",
       "      <td>26.9</td>\n",
       "      <td>26.0</td>\n",
       "      <td>32.2</td>\n",
       "      <td>32.0</td>\n",
       "      <td>24.3</td>\n",
       "      <td>25.4</td>\n",
       "      <td>23.4</td>\n",
       "      <td>33.5</td>\n",
       "      <td>32.6</td>\n",
       "      <td>33.7</td>\n",
       "    </tr>\n",
       "    <tr>\n",
       "      <th>1802</th>\n",
       "      <td>28.2</td>\n",
       "      <td>27.0</td>\n",
       "      <td>35.4</td>\n",
       "      <td>NaN</td>\n",
       "      <td>30.7</td>\n",
       "      <td>33.2</td>\n",
       "      <td>34.0</td>\n",
       "      <td>33.5</td>\n",
       "      <td>34.0</td>\n",
       "      <td>34.4</td>\n",
       "      <td>...</td>\n",
       "      <td>26.9</td>\n",
       "      <td>26.0</td>\n",
       "      <td>32.2</td>\n",
       "      <td>32.0</td>\n",
       "      <td>24.3</td>\n",
       "      <td>25.4</td>\n",
       "      <td>23.4</td>\n",
       "      <td>33.5</td>\n",
       "      <td>32.6</td>\n",
       "      <td>33.7</td>\n",
       "    </tr>\n",
       "    <tr>\n",
       "      <th>1803</th>\n",
       "      <td>28.2</td>\n",
       "      <td>27.0</td>\n",
       "      <td>35.4</td>\n",
       "      <td>NaN</td>\n",
       "      <td>30.7</td>\n",
       "      <td>33.2</td>\n",
       "      <td>34.0</td>\n",
       "      <td>33.5</td>\n",
       "      <td>34.0</td>\n",
       "      <td>34.4</td>\n",
       "      <td>...</td>\n",
       "      <td>26.9</td>\n",
       "      <td>26.0</td>\n",
       "      <td>32.2</td>\n",
       "      <td>32.0</td>\n",
       "      <td>24.3</td>\n",
       "      <td>25.4</td>\n",
       "      <td>23.4</td>\n",
       "      <td>33.5</td>\n",
       "      <td>32.6</td>\n",
       "      <td>33.7</td>\n",
       "    </tr>\n",
       "    <tr>\n",
       "      <th>1804</th>\n",
       "      <td>28.2</td>\n",
       "      <td>27.0</td>\n",
       "      <td>35.4</td>\n",
       "      <td>NaN</td>\n",
       "      <td>30.7</td>\n",
       "      <td>33.2</td>\n",
       "      <td>34.0</td>\n",
       "      <td>33.5</td>\n",
       "      <td>34.0</td>\n",
       "      <td>34.4</td>\n",
       "      <td>...</td>\n",
       "      <td>26.9</td>\n",
       "      <td>26.0</td>\n",
       "      <td>32.2</td>\n",
       "      <td>32.0</td>\n",
       "      <td>24.3</td>\n",
       "      <td>25.4</td>\n",
       "      <td>23.4</td>\n",
       "      <td>33.5</td>\n",
       "      <td>32.6</td>\n",
       "      <td>33.7</td>\n",
       "    </tr>\n",
       "    <tr>\n",
       "      <th>...</th>\n",
       "      <td>...</td>\n",
       "      <td>...</td>\n",
       "      <td>...</td>\n",
       "      <td>...</td>\n",
       "      <td>...</td>\n",
       "      <td>...</td>\n",
       "      <td>...</td>\n",
       "      <td>...</td>\n",
       "      <td>...</td>\n",
       "      <td>...</td>\n",
       "      <td>...</td>\n",
       "      <td>...</td>\n",
       "      <td>...</td>\n",
       "      <td>...</td>\n",
       "      <td>...</td>\n",
       "      <td>...</td>\n",
       "      <td>...</td>\n",
       "      <td>...</td>\n",
       "      <td>...</td>\n",
       "      <td>...</td>\n",
       "      <td>...</td>\n",
       "    </tr>\n",
       "    <tr>\n",
       "      <th>2096</th>\n",
       "      <td>76.2</td>\n",
       "      <td>79.5</td>\n",
       "      <td>87.9</td>\n",
       "      <td>NaN</td>\n",
       "      <td>82.9</td>\n",
       "      <td>86.8</td>\n",
       "      <td>85.7</td>\n",
       "      <td>85.5</td>\n",
       "      <td>91.8</td>\n",
       "      <td>91.6</td>\n",
       "      <td>...</td>\n",
       "      <td>77.0</td>\n",
       "      <td>83.0</td>\n",
       "      <td>86.8</td>\n",
       "      <td>84.6</td>\n",
       "      <td>74.6</td>\n",
       "      <td>80.4</td>\n",
       "      <td>77.5</td>\n",
       "      <td>77.1</td>\n",
       "      <td>76.5</td>\n",
       "      <td>73.9</td>\n",
       "    </tr>\n",
       "    <tr>\n",
       "      <th>2097</th>\n",
       "      <td>76.4</td>\n",
       "      <td>79.6</td>\n",
       "      <td>88.0</td>\n",
       "      <td>NaN</td>\n",
       "      <td>83.0</td>\n",
       "      <td>86.9</td>\n",
       "      <td>85.8</td>\n",
       "      <td>85.6</td>\n",
       "      <td>91.9</td>\n",
       "      <td>91.7</td>\n",
       "      <td>...</td>\n",
       "      <td>77.1</td>\n",
       "      <td>83.1</td>\n",
       "      <td>86.9</td>\n",
       "      <td>84.7</td>\n",
       "      <td>74.7</td>\n",
       "      <td>80.5</td>\n",
       "      <td>77.6</td>\n",
       "      <td>77.3</td>\n",
       "      <td>76.7</td>\n",
       "      <td>74.0</td>\n",
       "    </tr>\n",
       "    <tr>\n",
       "      <th>2098</th>\n",
       "      <td>76.5</td>\n",
       "      <td>79.7</td>\n",
       "      <td>88.2</td>\n",
       "      <td>NaN</td>\n",
       "      <td>83.1</td>\n",
       "      <td>87.0</td>\n",
       "      <td>86.0</td>\n",
       "      <td>85.7</td>\n",
       "      <td>92.0</td>\n",
       "      <td>91.8</td>\n",
       "      <td>...</td>\n",
       "      <td>77.2</td>\n",
       "      <td>83.3</td>\n",
       "      <td>87.0</td>\n",
       "      <td>84.8</td>\n",
       "      <td>74.8</td>\n",
       "      <td>80.6</td>\n",
       "      <td>77.8</td>\n",
       "      <td>77.4</td>\n",
       "      <td>76.8</td>\n",
       "      <td>74.2</td>\n",
       "    </tr>\n",
       "    <tr>\n",
       "      <th>2099</th>\n",
       "      <td>76.6</td>\n",
       "      <td>79.9</td>\n",
       "      <td>88.3</td>\n",
       "      <td>NaN</td>\n",
       "      <td>83.2</td>\n",
       "      <td>87.1</td>\n",
       "      <td>86.1</td>\n",
       "      <td>85.8</td>\n",
       "      <td>92.1</td>\n",
       "      <td>91.9</td>\n",
       "      <td>...</td>\n",
       "      <td>77.3</td>\n",
       "      <td>83.4</td>\n",
       "      <td>87.2</td>\n",
       "      <td>84.9</td>\n",
       "      <td>74.9</td>\n",
       "      <td>80.7</td>\n",
       "      <td>77.9</td>\n",
       "      <td>77.5</td>\n",
       "      <td>77.0</td>\n",
       "      <td>74.3</td>\n",
       "    </tr>\n",
       "    <tr>\n",
       "      <th>2100</th>\n",
       "      <td>76.8</td>\n",
       "      <td>80.0</td>\n",
       "      <td>88.4</td>\n",
       "      <td>NaN</td>\n",
       "      <td>83.3</td>\n",
       "      <td>87.2</td>\n",
       "      <td>86.2</td>\n",
       "      <td>85.9</td>\n",
       "      <td>92.3</td>\n",
       "      <td>92.0</td>\n",
       "      <td>...</td>\n",
       "      <td>77.5</td>\n",
       "      <td>83.5</td>\n",
       "      <td>87.3</td>\n",
       "      <td>85.0</td>\n",
       "      <td>75.1</td>\n",
       "      <td>80.8</td>\n",
       "      <td>78.0</td>\n",
       "      <td>77.7</td>\n",
       "      <td>77.1</td>\n",
       "      <td>74.4</td>\n",
       "    </tr>\n",
       "  </tbody>\n",
       "</table>\n",
       "<p>301 rows × 195 columns</p>\n",
       "</div>"
      ],
      "text/plain": [
       "country  Afghanistan  Angola  Albania  Andorra  United Arab Emirates  \\\n",
       "1800            28.2    27.0     35.4      NaN                  30.7   \n",
       "1801            28.2    27.0     35.4      NaN                  30.7   \n",
       "1802            28.2    27.0     35.4      NaN                  30.7   \n",
       "1803            28.2    27.0     35.4      NaN                  30.7   \n",
       "1804            28.2    27.0     35.4      NaN                  30.7   \n",
       "...              ...     ...      ...      ...                   ...   \n",
       "2096            76.2    79.5     87.9      NaN                  82.9   \n",
       "2097            76.4    79.6     88.0      NaN                  83.0   \n",
       "2098            76.5    79.7     88.2      NaN                  83.1   \n",
       "2099            76.6    79.9     88.3      NaN                  83.2   \n",
       "2100            76.8    80.0     88.4      NaN                  83.3   \n",
       "\n",
       "country  Argentina  Armenia  Antigua and Barbuda  Australia  Austria  ...  \\\n",
       "1800          33.2     34.0                 33.5       34.0     34.4  ...   \n",
       "1801          33.2     34.0                 33.5       34.0     34.4  ...   \n",
       "1802          33.2     34.0                 33.5       34.0     34.4  ...   \n",
       "1803          33.2     34.0                 33.5       34.0     34.4  ...   \n",
       "1804          33.2     34.0                 33.5       34.0     34.4  ...   \n",
       "...            ...      ...                  ...        ...      ...  ...   \n",
       "2096          86.8     85.7                 85.5       91.8     91.6  ...   \n",
       "2097          86.9     85.8                 85.6       91.9     91.7  ...   \n",
       "2098          87.0     86.0                 85.7       92.0     91.8  ...   \n",
       "2099          87.1     86.1                 85.8       92.1     91.9  ...   \n",
       "2100          87.2     86.2                 85.9       92.3     92.0  ...   \n",
       "\n",
       "country  Uzbekistan  St. Vincent and the Grenadines  Venezuela  Vietnam  \\\n",
       "1800           26.9                            26.0       32.2     32.0   \n",
       "1801           26.9                            26.0       32.2     32.0   \n",
       "1802           26.9                            26.0       32.2     32.0   \n",
       "1803           26.9                            26.0       32.2     32.0   \n",
       "1804           26.9                            26.0       32.2     32.0   \n",
       "...             ...                             ...        ...      ...   \n",
       "2096           77.0                            83.0       86.8     84.6   \n",
       "2097           77.1                            83.1       86.9     84.7   \n",
       "2098           77.2                            83.3       87.0     84.8   \n",
       "2099           77.3                            83.4       87.2     84.9   \n",
       "2100           77.5                            83.5       87.3     85.0   \n",
       "\n",
       "country  Vanuatu  Samoa  Yemen  South Africa  Zambia  Zimbabwe  \n",
       "1800        24.3   25.4   23.4          33.5    32.6      33.7  \n",
       "1801        24.3   25.4   23.4          33.5    32.6      33.7  \n",
       "1802        24.3   25.4   23.4          33.5    32.6      33.7  \n",
       "1803        24.3   25.4   23.4          33.5    32.6      33.7  \n",
       "1804        24.3   25.4   23.4          33.5    32.6      33.7  \n",
       "...          ...    ...    ...           ...     ...       ...  \n",
       "2096        74.6   80.4   77.5          77.1    76.5      73.9  \n",
       "2097        74.7   80.5   77.6          77.3    76.7      74.0  \n",
       "2098        74.8   80.6   77.8          77.4    76.8      74.2  \n",
       "2099        74.9   80.7   77.9          77.5    77.0      74.3  \n",
       "2100        75.1   80.8   78.0          77.7    77.1      74.4  \n",
       "\n",
       "[301 rows x 195 columns]"
      ]
     },
     "execution_count": 26,
     "metadata": {},
     "output_type": "execute_result"
    }
   ],
   "source": [
    "life_expect = pd.read_csv('../data/life_expectancy.csv')\n",
    "le = life_expect.set_index('country').T\n",
    "\n",
    "le"
   ]
  },
  {
   "cell_type": "markdown",
   "id": "719510b6-8cd6-4ba9-b916-329f5f75464c",
   "metadata": {},
   "source": [
    "### Missing Data"
   ]
  },
  {
   "cell_type": "code",
   "execution_count": 27,
   "id": "a78887f7-0956-4e71-af9b-260a7681e903",
   "metadata": {},
   "outputs": [
    {
     "data": {
      "text/plain": [
       "2079"
      ]
     },
     "execution_count": 27,
     "metadata": {},
     "output_type": "execute_result"
    }
   ],
   "source": [
    "le.isnull().sum().sum()"
   ]
  },
  {
   "cell_type": "markdown",
   "id": "3ac79b40-5c5b-4a59-b8f7-8464a8ca618f",
   "metadata": {},
   "source": [
    "There are 2079 entries missing.  This may seem like a lot but we have a total of $301 \\times 195 = 58,695$ potential entries.  So this is really about $3.5\\%$ of the maximum dataset.  Not so bad.  Let's figure out where this missing data is."
   ]
  },
  {
   "cell_type": "markdown",
   "id": "b1a236bc-df6d-4647-8ae8-ffaaf6cde83e",
   "metadata": {},
   "source": [
    "There are nine countries with significantly shorter datasets.  They are:"
   ]
  },
  {
   "cell_type": "code",
   "execution_count": 42,
   "id": "30eddefb-c50f-4783-959e-1c6d81c995aa",
   "metadata": {},
   "outputs": [
    {
     "name": "stdout",
     "output_type": "stream",
     "text": [
      "['Andorra', 'Dominica', 'St. Kitts and Nevis', 'Monaco', 'Marshall Islands', 'Nauru', 'Palau', 'San Marino', 'Tuvalu']\n",
      "9\n"
     ]
    }
   ],
   "source": [
    "le_short_data=[c for c in le.columns.tolist() if le[c].count()<301]\n",
    "\n",
    "print(le_short_data)\n",
    "print(len(le_short_data))"
   ]
  },
  {
   "cell_type": "code",
   "execution_count": 43,
   "id": "aa47afb7-8c5d-4d08-a3d5-0503fa866156",
   "metadata": {},
   "outputs": [
    {
     "name": "stdout",
     "output_type": "stream",
     "text": [
      "Andorra reported  70 years of data\n",
      "Dominica reported  70 years of data\n",
      "St. Kitts and Nevis reported  70 years of data\n",
      "Monaco reported  70 years of data\n",
      "Marshall Islands reported  70 years of data\n",
      "Nauru reported  70 years of data\n",
      "Palau reported  70 years of data\n",
      "San Marino reported  70 years of data\n",
      "Tuvalu reported  70 years of data\n"
     ]
    }
   ],
   "source": [
    "for c in le.columns.tolist():\n",
    "    c_data_pts = 301 - le[c].isnull().sum()\n",
    "    if c_data_pts <300:\n",
    "        print(f'{c} reported  {c_data_pts} years of data')"
   ]
  },
  {
   "cell_type": "markdown",
   "id": "d2cf9e39-2e37-46af-82ee-0587ee9b3dd6",
   "metadata": {},
   "source": [
    "A quick discussion of the countries in question\n",
    "\n",
    "#### European Microstates\n",
    "* __Andorra__ located between France and Spain with about 90,000 people\n",
    "* __Monaco__  south of France on the Mediterrean Sea, approximately 39,000 people\n",
    "* __San Marino__ in central Italy with around 34,000 people\n",
    "\n",
    "#### Caribbean Islands\n",
    "* __Dominica__ is an island in the Lesser Antilles archipelago (these islands are in the eastern Caribbean and beginning with the Virgin Islands (just east of Puetro Rico) and down through the Staint Kitts and Nevis, Dominica, ending with Trindad and Tobago (just north of Venezuala)).  Dominica has a population of approximately 75,000.\n",
    "* __St. Kitts and Nevis__ two more islands in the Lesser Antilles with a population of approximately 48,000.\n",
    "\n",
    "#### Oceania Islands\n",
    "* __Marshall Islands__ over 1,000 (mostly extremely small) islands in the northern region of Micronesia.  Population of about 43,000 lives on 24 islands and atolls.  (The Biniki Atoll, a famous site for US nuclear weapons testing, is part of the Marshall Islands.)\n",
    "* __Nauru__, an island south of the Marshall Islands, Nauru has a population of around 12,000\n",
    "* __Palau__, located east of Nauru and just to the west of the Philippines, is the island nation of Palau with roughly 18,000 people\n",
    "* __Tuvalu__, a nation of nine islands in the Polynesian region of Oceania (the eastern most region of Oceania).  About 10,000 people live in Tuvalu which is north of Fiji\n",
    "\n",
    "\n",
    "#### Data Cleaning Decision\n",
    "I have chosen to leave these 9 nations out of my EDA.  I am most concerned about leaving out the Oceania nations.  The European microstates and Caribbean islands have larger nearby neighbors in with similiar histories.  The islands of Oceania are quite distant from each other.  Although there were robust trading relationships amongst the Oceanic nations prior to recorded history, they often have extremely different experiences over the last several hundread years.  My first improvement on this EDA would be to revisit these countries.  "
   ]
  },
  {
   "cell_type": "code",
   "execution_count": 44,
   "id": "4a97cecb-a1df-4f29-9421-e47134f7d260",
   "metadata": {},
   "outputs": [],
   "source": [
    "countries_le = le.columns.tolist()"
   ]
  },
  {
   "cell_type": "code",
   "execution_count": 45,
   "id": "10e583e6-33d2-4e5d-8ef8-63346cc016c5",
   "metadata": {},
   "outputs": [],
   "source": [
    "for c in le_short_data:\n",
    "    countries_le.remove(c)"
   ]
  },
  {
   "cell_type": "code",
   "execution_count": 47,
   "id": "d983e3da-44bf-4979-adcf-adca7c9972bd",
   "metadata": {},
   "outputs": [
    {
     "data": {
      "text/plain": [
       "186"
      ]
     },
     "execution_count": 47,
     "metadata": {},
     "output_type": "execute_result"
    }
   ],
   "source": [
    "len(countries_le)"
   ]
  },
  {
   "cell_type": "code",
   "execution_count": 114,
   "id": "7a8c9201-c6b3-4dec-8047-067c3fb852c3",
   "metadata": {},
   "outputs": [],
   "source": [
    "le = le.drop(columns=le_short_data)"
   ]
  },
  {
   "cell_type": "code",
   "execution_count": 115,
   "id": "70ae5119-34f3-4488-8975-dd815b892e10",
   "metadata": {},
   "outputs": [
    {
     "data": {
      "text/plain": [
       "(301, 186)"
      ]
     },
     "execution_count": 115,
     "metadata": {},
     "output_type": "execute_result"
    }
   ],
   "source": [
    "le.shape"
   ]
  },
  {
   "cell_type": "markdown",
   "id": "a5b2caa4-f8c3-4fe9-9b32-c0a17a13f297",
   "metadata": {},
   "source": [
    "We have 186 countries with complete life expectancy data."
   ]
  },
  {
   "cell_type": "markdown",
   "id": "50a719b7-344f-4495-9379-1c7eb87b3c74",
   "metadata": {},
   "source": [
    "### Plots of Life Expectancy"
   ]
  },
  {
   "cell_type": "code",
   "execution_count": 48,
   "id": "a0c343ff-2a55-4b0f-b37e-7f3630d6ad3c",
   "metadata": {},
   "outputs": [
    {
     "data": {
      "image/png": "[encoded data removed]",
      "text/plain": [
       "<Figure size 640x480 with 1 Axes>"
      ]
     },
     "metadata": {},
     "output_type": "display_data"
    }
   ],
   "source": [
    "fig, ax= plt.subplots()\n",
    "\n",
    "le['United States'].plot(title=' Average Life Expectancy (years)', legend = True)\n",
    "le['Canada'].plot(legend= True)\n",
    "le['Mexico'].plot(legend=True)\n",
    "le['France'].plot(legend=True)\n",
    "le['Samoa'].plot(legend=True)\n",
    "le['Haiti'].plot(legend=True)\n",
    "le['Zimbabwe'].plot(legend=True);\n",
    "\n",
    "fig.savefig('../images/life_expectancy.png')\n",
    "\n",
    "plt.show()\n",
    "plt.close(fig)"
   ]
  },
  {
   "cell_type": "markdown",
   "id": "c7664b61-a971-466d-9f0f-f59461edecad",
   "metadata": {},
   "source": [
    "Dip around 1918 is due to the 'Spanish' influenza epidemic"
   ]
  },
  {
   "cell_type": "code",
   "execution_count": 49,
   "id": "28d2e0cc-4199-413e-ab3f-f1ec4bd5d8f0",
   "metadata": {},
   "outputs": [
    {
     "data": {
      "image/png": "[encoded data removed]",
      "text/plain": [
       "<Figure size 640x480 with 1 Axes>"
      ]
     },
     "metadata": {},
     "output_type": "display_data"
    }
   ],
   "source": [
    "fig, ax = plt.subplots()\n",
    "\n",
    "sns.set_style('ticks')\n",
    "sns.lineplot(data= le['United States'], ax=ax)\n",
    "\n",
    "ax.xaxis.set_major_locator(MultipleLocator(50,1800))\n",
    "\n",
    "ax.set_title('United States Average Life Expectancy');\n",
    "#ax.set_xlabel('Year')\n",
    "ax.set_ylabel('');\n",
    "\n",
    "plt.show()\n",
    "plt.close(fig)"
   ]
  },
  {
   "cell_type": "markdown",
   "id": "b0c254ea-b378-45e0-9bb5-57dbb1166ac4",
   "metadata": {},
   "source": [
    "There's even a significant drop in life expectancy around the 1860's likely due to the Civil War."
   ]
  },
  {
   "cell_type": "code",
   "execution_count": 116,
   "id": "867b0d74-32a7-4b94-8ea2-484118392d05",
   "metadata": {},
   "outputs": [],
   "source": [
    "le.to_csv('../data/le_clean.csv')"
   ]
  },
  {
   "cell_type": "markdown",
   "id": "81f8e961-f4dc-49da-8725-ffca84864940",
   "metadata": {},
   "source": [
    "## Gross National Income (GNI) per Capita"
   ]
  },
  {
   "cell_type": "markdown",
   "id": "3db496de-3b58-4db2-8cec-248f4845cbbe",
   "metadata": {},
   "source": [
    "Finally, the gross national income (GNI) per capita."
   ]
  },
  {
   "cell_type": "code",
   "execution_count": 50,
   "id": "924719e3-e34a-47dd-b1d5-93c0d2c3fbec",
   "metadata": {},
   "outputs": [
    {
     "data": {
      "text/html": [
       "<div>\n",
       "<style scoped>\n",
       "    .dataframe tbody tr th:only-of-type {\n",
       "        vertical-align: middle;\n",
       "    }\n",
       "\n",
       "    .dataframe tbody tr th {\n",
       "        vertical-align: top;\n",
       "    }\n",
       "\n",
       "    .dataframe thead th {\n",
       "        text-align: right;\n",
       "    }\n",
       "</style>\n",
       "<table border=\"1\" class=\"dataframe\">\n",
       "  <thead>\n",
       "    <tr style=\"text-align: right;\">\n",
       "      <th>country</th>\n",
       "      <th>Afghanistan</th>\n",
       "      <th>Angola</th>\n",
       "      <th>Albania</th>\n",
       "      <th>United Arab Emirates</th>\n",
       "      <th>Argentina</th>\n",
       "      <th>Armenia</th>\n",
       "      <th>Antigua and Barbuda</th>\n",
       "      <th>Australia</th>\n",
       "      <th>Austria</th>\n",
       "      <th>Azerbaijan</th>\n",
       "      <th>...</th>\n",
       "      <th>Uzbekistan</th>\n",
       "      <th>St. Vincent and the Grenadines</th>\n",
       "      <th>Venezuela</th>\n",
       "      <th>Vietnam</th>\n",
       "      <th>Vanuatu</th>\n",
       "      <th>Samoa</th>\n",
       "      <th>Yemen</th>\n",
       "      <th>South Africa</th>\n",
       "      <th>Zambia</th>\n",
       "      <th>Zimbabwe</th>\n",
       "    </tr>\n",
       "  </thead>\n",
       "  <tbody>\n",
       "    <tr>\n",
       "      <th>1800</th>\n",
       "      <td>207.0</td>\n",
       "      <td>517.0</td>\n",
       "      <td>207.0</td>\n",
       "      <td>738.0</td>\n",
       "      <td>794.0</td>\n",
       "      <td>111.0</td>\n",
       "      <td>650.0</td>\n",
       "      <td>763.0</td>\n",
       "      <td>1940.0</td>\n",
       "      <td>33.0</td>\n",
       "      <td>...</td>\n",
       "      <td>199.0</td>\n",
       "      <td>546.0</td>\n",
       "      <td>459.0</td>\n",
       "      <td>226.0</td>\n",
       "      <td>416.0</td>\n",
       "      <td>373.0</td>\n",
       "      <td>197.0</td>\n",
       "      <td>800.0</td>\n",
       "      <td>213.0</td>\n",
       "      <td>443.0</td>\n",
       "    </tr>\n",
       "    <tr>\n",
       "      <th>1801</th>\n",
       "      <td>207.0</td>\n",
       "      <td>519.0</td>\n",
       "      <td>207.0</td>\n",
       "      <td>740.0</td>\n",
       "      <td>797.0</td>\n",
       "      <td>111.0</td>\n",
       "      <td>650.0</td>\n",
       "      <td>769.0</td>\n",
       "      <td>1950.0</td>\n",
       "      <td>33.0</td>\n",
       "      <td>...</td>\n",
       "      <td>199.0</td>\n",
       "      <td>546.0</td>\n",
       "      <td>457.0</td>\n",
       "      <td>226.0</td>\n",
       "      <td>417.0</td>\n",
       "      <td>373.0</td>\n",
       "      <td>198.0</td>\n",
       "      <td>791.0</td>\n",
       "      <td>214.0</td>\n",
       "      <td>444.0</td>\n",
       "    </tr>\n",
       "    <tr>\n",
       "      <th>1802</th>\n",
       "      <td>207.0</td>\n",
       "      <td>522.0</td>\n",
       "      <td>207.0</td>\n",
       "      <td>743.0</td>\n",
       "      <td>799.0</td>\n",
       "      <td>111.0</td>\n",
       "      <td>650.0</td>\n",
       "      <td>773.0</td>\n",
       "      <td>1960.0</td>\n",
       "      <td>33.0</td>\n",
       "      <td>...</td>\n",
       "      <td>199.0</td>\n",
       "      <td>546.0</td>\n",
       "      <td>454.0</td>\n",
       "      <td>226.0</td>\n",
       "      <td>417.0</td>\n",
       "      <td>373.0</td>\n",
       "      <td>198.0</td>\n",
       "      <td>782.0</td>\n",
       "      <td>215.0</td>\n",
       "      <td>444.0</td>\n",
       "    </tr>\n",
       "    <tr>\n",
       "      <th>1803</th>\n",
       "      <td>207.0</td>\n",
       "      <td>524.0</td>\n",
       "      <td>207.0</td>\n",
       "      <td>746.0</td>\n",
       "      <td>802.0</td>\n",
       "      <td>111.0</td>\n",
       "      <td>650.0</td>\n",
       "      <td>777.0</td>\n",
       "      <td>1970.0</td>\n",
       "      <td>33.0</td>\n",
       "      <td>...</td>\n",
       "      <td>199.0</td>\n",
       "      <td>546.0</td>\n",
       "      <td>452.0</td>\n",
       "      <td>226.0</td>\n",
       "      <td>417.0</td>\n",
       "      <td>373.0</td>\n",
       "      <td>199.0</td>\n",
       "      <td>773.0</td>\n",
       "      <td>215.0</td>\n",
       "      <td>445.0</td>\n",
       "    </tr>\n",
       "    <tr>\n",
       "      <th>1804</th>\n",
       "      <td>207.0</td>\n",
       "      <td>525.0</td>\n",
       "      <td>207.0</td>\n",
       "      <td>749.0</td>\n",
       "      <td>805.0</td>\n",
       "      <td>111.0</td>\n",
       "      <td>650.0</td>\n",
       "      <td>782.0</td>\n",
       "      <td>1970.0</td>\n",
       "      <td>33.0</td>\n",
       "      <td>...</td>\n",
       "      <td>199.0</td>\n",
       "      <td>546.0</td>\n",
       "      <td>450.0</td>\n",
       "      <td>226.0</td>\n",
       "      <td>417.0</td>\n",
       "      <td>373.0</td>\n",
       "      <td>199.0</td>\n",
       "      <td>765.0</td>\n",
       "      <td>215.0</td>\n",
       "      <td>445.0</td>\n",
       "    </tr>\n",
       "    <tr>\n",
       "      <th>...</th>\n",
       "      <td>...</td>\n",
       "      <td>...</td>\n",
       "      <td>...</td>\n",
       "      <td>...</td>\n",
       "      <td>...</td>\n",
       "      <td>...</td>\n",
       "      <td>...</td>\n",
       "      <td>...</td>\n",
       "      <td>...</td>\n",
       "      <td>...</td>\n",
       "      <td>...</td>\n",
       "      <td>...</td>\n",
       "      <td>...</td>\n",
       "      <td>...</td>\n",
       "      <td>...</td>\n",
       "      <td>...</td>\n",
       "      <td>...</td>\n",
       "      <td>...</td>\n",
       "      <td>...</td>\n",
       "      <td>...</td>\n",
       "      <td>...</td>\n",
       "    </tr>\n",
       "    <tr>\n",
       "      <th>2046</th>\n",
       "      <td>834</td>\n",
       "      <td>3080</td>\n",
       "      <td>10.7k</td>\n",
       "      <td>53.2k</td>\n",
       "      <td>14.2k</td>\n",
       "      <td>8820</td>\n",
       "      <td>24.7k</td>\n",
       "      <td>87.7k</td>\n",
       "      <td>80.6k</td>\n",
       "      <td>6660</td>\n",
       "      <td>...</td>\n",
       "      <td>3480</td>\n",
       "      <td>13.3k</td>\n",
       "      <td>1510</td>\n",
       "      <td>6510</td>\n",
       "      <td>4710</td>\n",
       "      <td>5920</td>\n",
       "      <td>1590</td>\n",
       "      <td>8480</td>\n",
       "      <td>1400</td>\n",
       "      <td>1730</td>\n",
       "    </tr>\n",
       "    <tr>\n",
       "      <th>2047</th>\n",
       "      <td>852</td>\n",
       "      <td>3140</td>\n",
       "      <td>10.9k</td>\n",
       "      <td>54.3k</td>\n",
       "      <td>14.5k</td>\n",
       "      <td>9010</td>\n",
       "      <td>25.2k</td>\n",
       "      <td>89.6k</td>\n",
       "      <td>82.3k</td>\n",
       "      <td>6810</td>\n",
       "      <td>...</td>\n",
       "      <td>3550</td>\n",
       "      <td>13.5k</td>\n",
       "      <td>1540</td>\n",
       "      <td>6650</td>\n",
       "      <td>4810</td>\n",
       "      <td>6040</td>\n",
       "      <td>1630</td>\n",
       "      <td>8660</td>\n",
       "      <td>1430</td>\n",
       "      <td>1770</td>\n",
       "    </tr>\n",
       "    <tr>\n",
       "      <th>2048</th>\n",
       "      <td>870</td>\n",
       "      <td>3210</td>\n",
       "      <td>11.1k</td>\n",
       "      <td>55.5k</td>\n",
       "      <td>14.8k</td>\n",
       "      <td>9200</td>\n",
       "      <td>25.8k</td>\n",
       "      <td>91.5k</td>\n",
       "      <td>84k</td>\n",
       "      <td>6950</td>\n",
       "      <td>...</td>\n",
       "      <td>3630</td>\n",
       "      <td>13.8k</td>\n",
       "      <td>1580</td>\n",
       "      <td>6790</td>\n",
       "      <td>4910</td>\n",
       "      <td>6170</td>\n",
       "      <td>1660</td>\n",
       "      <td>8840</td>\n",
       "      <td>1460</td>\n",
       "      <td>1800</td>\n",
       "    </tr>\n",
       "    <tr>\n",
       "      <th>2049</th>\n",
       "      <td>888</td>\n",
       "      <td>3280</td>\n",
       "      <td>11.4k</td>\n",
       "      <td>56.7k</td>\n",
       "      <td>15.2k</td>\n",
       "      <td>9390</td>\n",
       "      <td>26.3k</td>\n",
       "      <td>93.4k</td>\n",
       "      <td>85.8k</td>\n",
       "      <td>7100</td>\n",
       "      <td>...</td>\n",
       "      <td>3710</td>\n",
       "      <td>14.1k</td>\n",
       "      <td>1610</td>\n",
       "      <td>6930</td>\n",
       "      <td>5010</td>\n",
       "      <td>6300</td>\n",
       "      <td>1700</td>\n",
       "      <td>9030</td>\n",
       "      <td>1490</td>\n",
       "      <td>1840</td>\n",
       "    </tr>\n",
       "    <tr>\n",
       "      <th>2050</th>\n",
       "      <td>907</td>\n",
       "      <td>3340</td>\n",
       "      <td>11.6k</td>\n",
       "      <td>57.9k</td>\n",
       "      <td>15.5k</td>\n",
       "      <td>9590</td>\n",
       "      <td>26.9k</td>\n",
       "      <td>95.4k</td>\n",
       "      <td>87.7k</td>\n",
       "      <td>7250</td>\n",
       "      <td>...</td>\n",
       "      <td>3790</td>\n",
       "      <td>14.4k</td>\n",
       "      <td>1650</td>\n",
       "      <td>7080</td>\n",
       "      <td>5120</td>\n",
       "      <td>6440</td>\n",
       "      <td>1730</td>\n",
       "      <td>9220</td>\n",
       "      <td>1520</td>\n",
       "      <td>1880</td>\n",
       "    </tr>\n",
       "  </tbody>\n",
       "</table>\n",
       "<p>251 rows × 191 columns</p>\n",
       "</div>"
      ],
      "text/plain": [
       "country Afghanistan Angola Albania United Arab Emirates Argentina Armenia  \\\n",
       "1800          207.0  517.0   207.0                738.0     794.0   111.0   \n",
       "1801          207.0  519.0   207.0                740.0     797.0   111.0   \n",
       "1802          207.0  522.0   207.0                743.0     799.0   111.0   \n",
       "1803          207.0  524.0   207.0                746.0     802.0   111.0   \n",
       "1804          207.0  525.0   207.0                749.0     805.0   111.0   \n",
       "...             ...    ...     ...                  ...       ...     ...   \n",
       "2046            834   3080   10.7k                53.2k     14.2k    8820   \n",
       "2047            852   3140   10.9k                54.3k     14.5k    9010   \n",
       "2048            870   3210   11.1k                55.5k     14.8k    9200   \n",
       "2049            888   3280   11.4k                56.7k     15.2k    9390   \n",
       "2050            907   3340   11.6k                57.9k     15.5k    9590   \n",
       "\n",
       "country Antigua and Barbuda Australia Austria Azerbaijan  ... Uzbekistan  \\\n",
       "1800                  650.0     763.0  1940.0       33.0  ...      199.0   \n",
       "1801                  650.0     769.0  1950.0       33.0  ...      199.0   \n",
       "1802                  650.0     773.0  1960.0       33.0  ...      199.0   \n",
       "1803                  650.0     777.0  1970.0       33.0  ...      199.0   \n",
       "1804                  650.0     782.0  1970.0       33.0  ...      199.0   \n",
       "...                     ...       ...     ...        ...  ...        ...   \n",
       "2046                  24.7k     87.7k   80.6k       6660  ...       3480   \n",
       "2047                  25.2k     89.6k   82.3k       6810  ...       3550   \n",
       "2048                  25.8k     91.5k     84k       6950  ...       3630   \n",
       "2049                  26.3k     93.4k   85.8k       7100  ...       3710   \n",
       "2050                  26.9k     95.4k   87.7k       7250  ...       3790   \n",
       "\n",
       "country St. Vincent and the Grenadines Venezuela Vietnam Vanuatu  Samoa  \\\n",
       "1800                             546.0     459.0   226.0   416.0  373.0   \n",
       "1801                             546.0     457.0   226.0   417.0  373.0   \n",
       "1802                             546.0     454.0   226.0   417.0  373.0   \n",
       "1803                             546.0     452.0   226.0   417.0  373.0   \n",
       "1804                             546.0     450.0   226.0   417.0  373.0   \n",
       "...                                ...       ...     ...     ...    ...   \n",
       "2046                             13.3k      1510    6510    4710   5920   \n",
       "2047                             13.5k      1540    6650    4810   6040   \n",
       "2048                             13.8k      1580    6790    4910   6170   \n",
       "2049                             14.1k      1610    6930    5010   6300   \n",
       "2050                             14.4k      1650    7080    5120   6440   \n",
       "\n",
       "country  Yemen South Africa Zambia Zimbabwe  \n",
       "1800     197.0        800.0  213.0    443.0  \n",
       "1801     198.0        791.0  214.0    444.0  \n",
       "1802     198.0        782.0  215.0    444.0  \n",
       "1803     199.0        773.0  215.0    445.0  \n",
       "1804     199.0        765.0  215.0    445.0  \n",
       "...        ...          ...    ...      ...  \n",
       "2046      1590         8480   1400     1730  \n",
       "2047      1630         8660   1430     1770  \n",
       "2048      1660         8840   1460     1800  \n",
       "2049      1700         9030   1490     1840  \n",
       "2050      1730         9220   1520     1880  \n",
       "\n",
       "[251 rows x 191 columns]"
      ]
     },
     "execution_count": 50,
     "metadata": {},
     "output_type": "execute_result"
    }
   ],
   "source": [
    "gross_natl_income = pd.read_csv('../data/gni_per_cap_atlas_method_con2021.csv')\n",
    "gni_s = gross_natl_income.set_index('country').T\n",
    "\n",
    "gni_s"
   ]
  },
  {
   "cell_type": "code",
   "execution_count": 51,
   "id": "3af992f9-5196-4a32-bd2b-b64a8269996e",
   "metadata": {},
   "outputs": [
    {
     "data": {
      "text/plain": [
       "229"
      ]
     },
     "execution_count": 51,
     "metadata": {},
     "output_type": "execute_result"
    }
   ],
   "source": [
    "gni_s.isnull().sum().sum()"
   ]
  },
  {
   "cell_type": "markdown",
   "id": "9e38c4c4-1010-4d09-81a0-cb65df6a5624",
   "metadata": {},
   "source": [
    "There are 229 missing entries."
   ]
  },
  {
   "cell_type": "code",
   "execution_count": 53,
   "id": "57cb4043-26b0-4314-bec7-50bf30d4bc00",
   "metadata": {},
   "outputs": [
    {
     "name": "stdout",
     "output_type": "stream",
     "text": [
      "['Liechtenstein']\n",
      "1\n"
     ]
    }
   ],
   "source": [
    "gni_short_data=[c for c in gni_s.columns.tolist() if gni_s[c].count()<250]\n",
    "\n",
    "print(gni_short_data)\n",
    "print(len(gni_short_data))"
   ]
  },
  {
   "cell_type": "markdown",
   "id": "0fec46ad-ebdf-42a2-b8c6-d86f30835f21",
   "metadata": {},
   "source": [
    "All the missing entries are from Lichtenstein.  "
   ]
  },
  {
   "cell_type": "code",
   "execution_count": 54,
   "id": "7897ce41-d5d1-4091-b3d8-7e902aa06c76",
   "metadata": {
    "scrolled": true
   },
   "outputs": [
    {
     "data": {
      "text/plain": [
       "1980      NaN\n",
       "1981      NaN\n",
       "1982      NaN\n",
       "1983      NaN\n",
       "1984      NaN\n",
       "1985      NaN\n",
       "1986      NaN\n",
       "1987      NaN\n",
       "1988    74.7k\n",
       "1989    79.4k\n",
       "1990    82.2k\n",
       "1991      84k\n",
       "1992    92.6k\n",
       "1993    95.3k\n",
       "1994     102k\n",
       "1995     112k\n",
       "1996     123k\n",
       "1997     126k\n",
       "1998     123k\n",
       "1999     122k\n",
       "2000     118k\n",
       "2001     100k\n",
       "2002    94.8k\n",
       "2003    95.4k\n",
       "2004     103k\n",
       "2005     117k\n",
       "2006     130k\n",
       "2007     139k\n",
       "2008     148k\n",
       "2009     140k\n",
       "2010      NaN\n",
       "2011      NaN\n",
       "Name: Liechtenstein, dtype: object"
      ]
     },
     "execution_count": 54,
     "metadata": {},
     "output_type": "execute_result"
    }
   ],
   "source": [
    "gni_s['Liechtenstein'][180:212]"
   ]
  },
  {
   "cell_type": "markdown",
   "id": "2270b0d7-7bd1-4ca1-b4fc-ddabc55dc849",
   "metadata": {},
   "source": [
    "For this EDA, I'm going to drop Liechtenstein from the GNI dataset."
   ]
  },
  {
   "cell_type": "code",
   "execution_count": 103,
   "id": "450d62c7-9ca1-46a8-b046-72c9bf3f3e97",
   "metadata": {},
   "outputs": [],
   "source": [
    "gni_s = gni_s.drop(columns = 'Liechtenstein')"
   ]
  },
  {
   "cell_type": "code",
   "execution_count": 104,
   "id": "ed1caa30-4887-4a50-8791-41c96ad7a128",
   "metadata": {},
   "outputs": [],
   "source": [
    "countries_gni = gni_s.columns.tolist()"
   ]
  },
  {
   "cell_type": "markdown",
   "id": "d86feaec-2601-4257-9fb4-cd3b1ccd051c",
   "metadata": {},
   "source": [
    "There are some numbers that need to be converted from strings to numbers."
   ]
  },
  {
   "cell_type": "code",
   "execution_count": 105,
   "id": "3d070634-2c0b-4bd2-adaa-d2ccf6108697",
   "metadata": {},
   "outputs": [],
   "source": [
    "def gni_str(num):\n",
    "    try:\n",
    "        return float(num)\n",
    "    except:\n",
    "        return str_to_num(num)\n",
    "\n",
    "def adjust_mag(num, mag):\n",
    "    return num / (10**mag)"
   ]
  },
  {
   "cell_type": "code",
   "execution_count": 106,
   "id": "4a67c63d-684d-4ba6-8bd0-88d283b2d17b",
   "metadata": {},
   "outputs": [],
   "source": [
    "def gni(c, mag = 0):\n",
    "    return gni_s[c].apply(gni_str).apply(lambda n: adjust_mag(n, mag))"
   ]
  },
  {
   "cell_type": "code",
   "execution_count": 107,
   "id": "4fc4d9a1-af73-48a2-a0c2-e4bd4681b08f",
   "metadata": {},
   "outputs": [],
   "source": [
    "gni_clean= gni_s.map(gni_str)"
   ]
  },
  {
   "cell_type": "code",
   "execution_count": 108,
   "id": "3a84706c-3166-4cd1-97e8-63c3376aa1af",
   "metadata": {},
   "outputs": [
    {
     "data": {
      "text/html": [
       "<div>\n",
       "<style scoped>\n",
       "    .dataframe tbody tr th:only-of-type {\n",
       "        vertical-align: middle;\n",
       "    }\n",
       "\n",
       "    .dataframe tbody tr th {\n",
       "        vertical-align: top;\n",
       "    }\n",
       "\n",
       "    .dataframe thead th {\n",
       "        text-align: right;\n",
       "    }\n",
       "</style>\n",
       "<table border=\"1\" class=\"dataframe\">\n",
       "  <thead>\n",
       "    <tr style=\"text-align: right;\">\n",
       "      <th>country</th>\n",
       "      <th>Afghanistan</th>\n",
       "      <th>Angola</th>\n",
       "      <th>Albania</th>\n",
       "      <th>United Arab Emirates</th>\n",
       "      <th>Argentina</th>\n",
       "      <th>Armenia</th>\n",
       "      <th>Antigua and Barbuda</th>\n",
       "      <th>Australia</th>\n",
       "      <th>Austria</th>\n",
       "      <th>Azerbaijan</th>\n",
       "      <th>...</th>\n",
       "      <th>Uzbekistan</th>\n",
       "      <th>St. Vincent and the Grenadines</th>\n",
       "      <th>Venezuela</th>\n",
       "      <th>Vietnam</th>\n",
       "      <th>Vanuatu</th>\n",
       "      <th>Samoa</th>\n",
       "      <th>Yemen</th>\n",
       "      <th>South Africa</th>\n",
       "      <th>Zambia</th>\n",
       "      <th>Zimbabwe</th>\n",
       "    </tr>\n",
       "  </thead>\n",
       "  <tbody>\n",
       "    <tr>\n",
       "      <th>1800</th>\n",
       "      <td>207.0</td>\n",
       "      <td>517.0</td>\n",
       "      <td>207.0</td>\n",
       "      <td>738.0</td>\n",
       "      <td>794.0</td>\n",
       "      <td>111.0</td>\n",
       "      <td>650.0</td>\n",
       "      <td>763.0</td>\n",
       "      <td>1940.0</td>\n",
       "      <td>33.0</td>\n",
       "      <td>...</td>\n",
       "      <td>199.0</td>\n",
       "      <td>546.0</td>\n",
       "      <td>459.0</td>\n",
       "      <td>226.0</td>\n",
       "      <td>416.0</td>\n",
       "      <td>373.0</td>\n",
       "      <td>197.0</td>\n",
       "      <td>800.0</td>\n",
       "      <td>213.0</td>\n",
       "      <td>443.0</td>\n",
       "    </tr>\n",
       "    <tr>\n",
       "      <th>1801</th>\n",
       "      <td>207.0</td>\n",
       "      <td>519.0</td>\n",
       "      <td>207.0</td>\n",
       "      <td>740.0</td>\n",
       "      <td>797.0</td>\n",
       "      <td>111.0</td>\n",
       "      <td>650.0</td>\n",
       "      <td>769.0</td>\n",
       "      <td>1950.0</td>\n",
       "      <td>33.0</td>\n",
       "      <td>...</td>\n",
       "      <td>199.0</td>\n",
       "      <td>546.0</td>\n",
       "      <td>457.0</td>\n",
       "      <td>226.0</td>\n",
       "      <td>417.0</td>\n",
       "      <td>373.0</td>\n",
       "      <td>198.0</td>\n",
       "      <td>791.0</td>\n",
       "      <td>214.0</td>\n",
       "      <td>444.0</td>\n",
       "    </tr>\n",
       "    <tr>\n",
       "      <th>1802</th>\n",
       "      <td>207.0</td>\n",
       "      <td>522.0</td>\n",
       "      <td>207.0</td>\n",
       "      <td>743.0</td>\n",
       "      <td>799.0</td>\n",
       "      <td>111.0</td>\n",
       "      <td>650.0</td>\n",
       "      <td>773.0</td>\n",
       "      <td>1960.0</td>\n",
       "      <td>33.0</td>\n",
       "      <td>...</td>\n",
       "      <td>199.0</td>\n",
       "      <td>546.0</td>\n",
       "      <td>454.0</td>\n",
       "      <td>226.0</td>\n",
       "      <td>417.0</td>\n",
       "      <td>373.0</td>\n",
       "      <td>198.0</td>\n",
       "      <td>782.0</td>\n",
       "      <td>215.0</td>\n",
       "      <td>444.0</td>\n",
       "    </tr>\n",
       "    <tr>\n",
       "      <th>1803</th>\n",
       "      <td>207.0</td>\n",
       "      <td>524.0</td>\n",
       "      <td>207.0</td>\n",
       "      <td>746.0</td>\n",
       "      <td>802.0</td>\n",
       "      <td>111.0</td>\n",
       "      <td>650.0</td>\n",
       "      <td>777.0</td>\n",
       "      <td>1970.0</td>\n",
       "      <td>33.0</td>\n",
       "      <td>...</td>\n",
       "      <td>199.0</td>\n",
       "      <td>546.0</td>\n",
       "      <td>452.0</td>\n",
       "      <td>226.0</td>\n",
       "      <td>417.0</td>\n",
       "      <td>373.0</td>\n",
       "      <td>199.0</td>\n",
       "      <td>773.0</td>\n",
       "      <td>215.0</td>\n",
       "      <td>445.0</td>\n",
       "    </tr>\n",
       "    <tr>\n",
       "      <th>1804</th>\n",
       "      <td>207.0</td>\n",
       "      <td>525.0</td>\n",
       "      <td>207.0</td>\n",
       "      <td>749.0</td>\n",
       "      <td>805.0</td>\n",
       "      <td>111.0</td>\n",
       "      <td>650.0</td>\n",
       "      <td>782.0</td>\n",
       "      <td>1970.0</td>\n",
       "      <td>33.0</td>\n",
       "      <td>...</td>\n",
       "      <td>199.0</td>\n",
       "      <td>546.0</td>\n",
       "      <td>450.0</td>\n",
       "      <td>226.0</td>\n",
       "      <td>417.0</td>\n",
       "      <td>373.0</td>\n",
       "      <td>199.0</td>\n",
       "      <td>765.0</td>\n",
       "      <td>215.0</td>\n",
       "      <td>445.0</td>\n",
       "    </tr>\n",
       "  </tbody>\n",
       "</table>\n",
       "<p>5 rows × 190 columns</p>\n",
       "</div>"
      ],
      "text/plain": [
       "country  Afghanistan  Angola  Albania  United Arab Emirates  Argentina  \\\n",
       "1800           207.0   517.0    207.0                 738.0      794.0   \n",
       "1801           207.0   519.0    207.0                 740.0      797.0   \n",
       "1802           207.0   522.0    207.0                 743.0      799.0   \n",
       "1803           207.0   524.0    207.0                 746.0      802.0   \n",
       "1804           207.0   525.0    207.0                 749.0      805.0   \n",
       "\n",
       "country  Armenia  Antigua and Barbuda  Australia  Austria  Azerbaijan  ...  \\\n",
       "1800       111.0                650.0      763.0   1940.0        33.0  ...   \n",
       "1801       111.0                650.0      769.0   1950.0        33.0  ...   \n",
       "1802       111.0                650.0      773.0   1960.0        33.0  ...   \n",
       "1803       111.0                650.0      777.0   1970.0        33.0  ...   \n",
       "1804       111.0                650.0      782.0   1970.0        33.0  ...   \n",
       "\n",
       "country  Uzbekistan  St. Vincent and the Grenadines  Venezuela  Vietnam  \\\n",
       "1800          199.0                           546.0      459.0    226.0   \n",
       "1801          199.0                           546.0      457.0    226.0   \n",
       "1802          199.0                           546.0      454.0    226.0   \n",
       "1803          199.0                           546.0      452.0    226.0   \n",
       "1804          199.0                           546.0      450.0    226.0   \n",
       "\n",
       "country  Vanuatu  Samoa  Yemen  South Africa  Zambia  Zimbabwe  \n",
       "1800       416.0  373.0  197.0         800.0   213.0     443.0  \n",
       "1801       417.0  373.0  198.0         791.0   214.0     444.0  \n",
       "1802       417.0  373.0  198.0         782.0   215.0     444.0  \n",
       "1803       417.0  373.0  199.0         773.0   215.0     445.0  \n",
       "1804       417.0  373.0  199.0         765.0   215.0     445.0  \n",
       "\n",
       "[5 rows x 190 columns]"
      ]
     },
     "execution_count": 108,
     "metadata": {},
     "output_type": "execute_result"
    }
   ],
   "source": [
    "gni_clean.head()"
   ]
  },
  {
   "cell_type": "code",
   "execution_count": 109,
   "id": "7cb2546d-7c90-4624-928f-15668fef9415",
   "metadata": {},
   "outputs": [
    {
     "data": {
      "text/plain": [
       "1800      3.15\n",
       "1801      3.21\n",
       "1802      3.26\n",
       "1803      3.20\n",
       "1804      3.20\n",
       "         ...  \n",
       "2046    107.00\n",
       "2047    109.00\n",
       "2048    111.00\n",
       "2049    114.00\n",
       "2050    116.00\n",
       "Name: United States, Length: 251, dtype: float64"
      ]
     },
     "execution_count": 109,
     "metadata": {},
     "output_type": "execute_result"
    }
   ],
   "source": [
    "gni('United States', mag = 3)"
   ]
  },
  {
   "cell_type": "code",
   "execution_count": 110,
   "id": "0bfac5b5-9a84-4ba9-b3ad-2358efbf79e9",
   "metadata": {},
   "outputs": [
    {
     "data": {
      "image/png": "[encoded data removed]",
      "text/plain": [
       "<Figure size 640x480 with 1 Axes>"
      ]
     },
     "metadata": {},
     "output_type": "display_data"
    }
   ],
   "source": [
    "fig, ax= plt.subplots()\n",
    "\n",
    "gni('United States',3).plot(title = 'Gross National Income (GNI) Per Capita', \n",
    "                            legend = True, \n",
    "                            ylabel = 'GNI Per Capita in thousands of US dollars',\n",
    "                            xlabel = 'Year'\n",
    "                           )\n",
    "gni('Canada',3).plot(legend=True)\n",
    "gni('Mexico',3).plot(legend=True)\n",
    "gni('United Kingdom',3).plot(legend=True)\n",
    "gni('India',3).plot(legend=True)\n",
    "gni('China',3).plot(legend=True);\n",
    "\n",
    "fig.savefig('../images/gni.png')\n",
    "\n",
    "plt.show()\n",
    "plt.close(fig)"
   ]
  },
  {
   "cell_type": "code",
   "execution_count": 111,
   "id": "3eede21a-425a-4d88-929d-869cde4f20ba",
   "metadata": {},
   "outputs": [],
   "source": [
    "gni_clean.to_csv('../data/gni_clean.csv')"
   ]
  },
  {
   "cell_type": "markdown",
   "id": "ff6af837-3d24-4c13-a3e5-b9198ea5cbad",
   "metadata": {},
   "source": [
    "## Life Expectancy vs. GNI Per Capita"
   ]
  },
  {
   "cell_type": "markdown",
   "id": "e5559f82-6daf-41c2-9d6e-8f16a6ba0a9a",
   "metadata": {},
   "source": [
    "I'm going to graph life expectancy vs. GNI per capita.  I expect to see a general trend of life expectancy and GNI per capita increasing together"
   ]
  },
  {
   "cell_type": "code",
   "execution_count": 62,
   "id": "11f5c011-d07e-46b7-8916-eff7386f02da",
   "metadata": {},
   "outputs": [],
   "source": [
    "def le_vs_gni(c, figsz=(6,6)):\n",
    "    fig, ax = plt.subplots(figsize= figsz)\n",
    "    \n",
    "    sns.scatterplot(\n",
    "        pd.DataFrame({\n",
    "            'year': [*range(1800,2101)], \n",
    "            'population': pop_time(c), \n",
    "            'life_expectancy': le[c], \n",
    "            'gni_per_capita': gni(c,0)\n",
    "        }),\n",
    "        x= 'gni_per_capita',\n",
    "        y= 'life_expectancy',\n",
    "        hue= 'year',\n",
    "        alpha= 0.8,\n",
    "        ax= ax,\n",
    "        palette= 'crest'\n",
    "    )\n",
    "    \n",
    "    ax.set(\n",
    "        title= f'Life Expectancy vs. GNI per capita in the {c}', \n",
    "        xlabel= 'Gross National Income (GNI) per capita (in USD)', \n",
    "        ylabel= 'Life Expectancy (years)'\n",
    "    );\n",
    "\n",
    "    fig.savefig(f'../images/le_gni_{c}.png')\n",
    "\n",
    "    plt.close(fig)  # this function was returning two plots, so I asked ChatGPT why it creating two plots \n",
    "    # and it suggested that I include this plt.close(fig) to ensure that the plot wasn't being automatically created\n",
    "    # when the function was called and again when the fig is returned (thus two plots).  ChatGPT only contributed \n",
    "    # this line of code.\n",
    "    \n",
    "    return fig"
   ]
  },
  {
   "cell_type": "code",
   "execution_count": 63,
   "id": "466ee784-b1c4-400d-8d22-472f8f6155f4",
   "metadata": {},
   "outputs": [
    {
     "data": {
      "image/png": "[encoded data removed]",
      "text/plain": [
       "<Figure size 600x600 with 1 Axes>"
      ]
     },
     "execution_count": 63,
     "metadata": {},
     "output_type": "execute_result"
    }
   ],
   "source": [
    "le_vs_gni('Canada')"
   ]
  },
  {
   "cell_type": "markdown",
   "id": "9d29dc83-a423-402e-8a02-1d433100a038",
   "metadata": {},
   "source": [
    "As expected, life expectancy generally increases as GNI per capita does.  Here GNI per capita is a rough indication of average economic status.  "
   ]
  },
  {
   "cell_type": "code",
   "execution_count": 65,
   "id": "348e0777-7b64-4d71-99ae-71d6bde8cfbe",
   "metadata": {},
   "outputs": [
    {
     "data": {
      "image/png": "[encoded data removed]",
      "text/plain": [
       "<Figure size 600x600 with 1 Axes>"
      ]
     },
     "execution_count": 65,
     "metadata": {},
     "output_type": "execute_result"
    }
   ],
   "source": [
    "le_vs_gni('Haiti')"
   ]
  },
  {
   "cell_type": "code",
   "execution_count": 66,
   "id": "1a23b41b-2d48-4d33-9879-1bc7e6b08dcc",
   "metadata": {},
   "outputs": [
    {
     "data": {
      "image/png": "[encoded data removed]",
      "text/plain": [
       "<Figure size 600x600 with 1 Axes>"
      ]
     },
     "execution_count": 66,
     "metadata": {},
     "output_type": "execute_result"
    }
   ],
   "source": [
    "le_vs_gni('Zimbabwe')"
   ]
  },
  {
   "cell_type": "markdown",
   "id": "3a5758de-b919-47a6-a4cf-089f637de8e5",
   "metadata": {},
   "source": [
    "Here we can see a more stressful example.  Haiti has clearly had massive variations in GNI per capita during the 20th and 21st centuries.  While Zimbabwe is all over the place.  "
   ]
  },
  {
   "cell_type": "markdown",
   "id": "c45609da-e12c-40a5-b673-7aa261957ea6",
   "metadata": {},
   "source": [
    "## Country list"
   ]
  },
  {
   "cell_type": "markdown",
   "id": "f36e5b1b-95c1-4e82-9bb2-0a9c7672ab8b",
   "metadata": {},
   "source": [
    "Not all countries have complete data.  So lets collect a list of countries that have large amounts of data in all three datasets.\n",
    "\n",
    "* Population had complete datasets for 196 countries (all except the Holy See)\n",
    "\n",
    "* Life Expectancy had complete data for 186 countries, there were an additional 9 with significantly smaller datasets\n",
    "\n",
    "* GNI per capita had complete entries for 190 countries (all except Liechtenstein)\n",
    "\n",
    "We do not know if all of these datasets worked from the same list of countries.  Let's focus on EDA on the countries which appear in all three datasets.  We need to find the intersection (similar to an inner join) of the countries appearing in each dataset."
   ]
  },
  {
   "cell_type": "code",
   "execution_count": 112,
   "id": "7aef9e8b-87f7-4ce9-917f-741127a0bd75",
   "metadata": {},
   "outputs": [
    {
     "name": "stdout",
     "output_type": "stream",
     "text": [
      "The population data contains complete data for 196 countries.\n",
      "The life expectancy data contains complete data for 186 countries.\n",
      "The GNI per capita data contains complete data for 190 countries.\n"
     ]
    }
   ],
   "source": [
    "print(f'The population data contains complete data for {len(countries_pop)} countries.')\n",
    "print(f'The life expectancy data contains complete data for {len(countries_le)} countries.')\n",
    "print(f'The GNI per capita data contains complete data for {len(countries_gni)} countries.')"
   ]
  },
  {
   "cell_type": "code",
   "execution_count": 113,
   "id": "99f5380e-7b4d-49d7-9ac9-8e1b4d93f2d1",
   "metadata": {},
   "outputs": [
    {
     "name": "stdout",
     "output_type": "stream",
     "text": [
      "184\n"
     ]
    }
   ],
   "source": [
    "countries = list(set(countries_pop) & set(countries_le) & set(countries_gni))\n",
    "\n",
    "print(len(countries))"
   ]
  },
  {
   "cell_type": "markdown",
   "id": "7103c947-4833-4cca-8fef-cdf1c2fa5ecd",
   "metadata": {},
   "source": [
    "My primlinary analysis will be on these 184 countries."
   ]
  }
 ],
 "metadata": {
  "kernelspec": {
   "display_name": "Python 3 (ipykernel)",
   "language": "python",
   "name": "python3"
  },
  "language_info": {
   "codemirror_mode": {
    "name": "ipython",
    "version": 3
   },
   "file_extension": ".py",
   "mimetype": "text/x-python",
   "name": "python",
   "nbconvert_exporter": "python",
   "pygments_lexer": "ipython3",
   "version": "3.11.9"
  }
 },
 "nbformat": 4,
 "nbformat_minor": 5
}
